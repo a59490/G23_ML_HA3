{
 "cells": [
  {
   "cell_type": "code",
   "execution_count": 31,
   "id": "696c386a",
   "metadata": {},
   "outputs": [],
   "source": [
    "import numpy as np\n",
    "import pandas as pd\n",
    "import matplotlib.pyplot as plt\n",
    "import seaborn as sns\n",
    "import pickle\n",
    "import logging\n",
    "import warnings\n",
    "warnings.filterwarnings('ignore')\n",
    "\n",
    "from inspect import signature\n",
    "from sklearn.model_selection import train_test_split\n",
    "from sklearn.model_selection import GridSearchCV, cross_validate, cross_val_score, KFold\n",
    "from sklearn.metrics import make_scorer, confusion_matrix, accuracy_score, precision_score, recall_score, f1_score, matthews_corrcoef, explained_variance_score, mean_squared_error, r2_score, max_error, mean_absolute_error\n",
    "from sklearn.preprocessing import StandardScaler, MinMaxScaler, PowerTransformer, RobustScaler, MaxAbsScaler\n",
    "from sklearn.decomposition import PCA\n",
    "from scipy.stats import pearsonr\n",
    "from sklearn.tree import DecisionTreeClassifier, DecisionTreeRegressor\n",
    "from sklearn.linear_model import LinearRegression, Lasso, Ridge, LogisticRegression\n",
    "from sklearn.base import BaseEstimator, RegressorMixin, clone, is_classifier, is_regressor\n",
    "from sklearn.exceptions import NotFittedError\n",
    "from sklearn.utils.validation import check_array, check_is_fitted, check_X_y\n",
    "from sklearn.preprocessing import StandardScaler, MinMaxScaler, RobustScaler, Normalizer, PowerTransformer\n",
    "from sklearn.ensemble import RandomForestRegressor, RandomForestClassifier\n",
    "from sklearn.svm import SVR, SVC\n",
    "from xgboost import XGBClassifier\n",
    "from lightgbm import LGBMClassifier\n",
    "from imblearn.over_sampling import SMOTE"
   ]
  },
  {
   "cell_type": "code",
   "execution_count": 2,
   "id": "563f3917",
   "metadata": {},
   "outputs": [],
   "source": [
    "class ZeroInflatedRegressor(BaseEstimator, RegressorMixin):\n",
    "    \"\"\"A meta regressor for zero-inflated datasets, i.e. the targets contain a lot of zeroes.\n",
    "\n",
    "    `ZeroInflatedRegressor` consists of a classifier and a regressor.\n",
    "\n",
    "        - The classifier's task is to find if the target is zero or not.\n",
    "        - The regressor's task is to output a (usually positive) prediction whenever the classifier indicates that the\n",
    "        there should be a non-zero prediction.\n",
    "\n",
    "    The regressor is only trained on examples where the target is non-zero, which makes it easier for it to focus.\n",
    "\n",
    "    At prediction time, the classifier is first asked if the output should be zero. If yes, output zero.\n",
    "    Otherwise, ask the regressor for its prediction and output it.\n",
    "\n",
    "    Parameters\n",
    "    ----------\n",
    "    classifier : scikit-learn compatible classifier\n",
    "        A classifier that answers the question \"Should the output be zero?\".\n",
    "    regressor : scikit-learn compatible regressor\n",
    "        A regressor for predicting the target. Its prediction is only used if `classifier` says that the output is\n",
    "        non-zero.\n",
    "\n",
    "    Attributes\n",
    "    ----------\n",
    "    classifier_ : scikit-learn compatible classifier\n",
    "        The fitted classifier.\n",
    "    regressor_ : scikit-learn compatible regressor\n",
    "        The fitted regressor.\"\"\"\n",
    "\n",
    "    def __init__(self, classifier, regressor) -> None:\n",
    "        self.classifier = classifier\n",
    "        self.regressor = regressor\n",
    "\n",
    "    def fit(self, X, y, sample_weight=None):\n",
    "        \"\"\"Fit the underlying classifier and regressor using `X` and `y` as training data. The regressor is only trained\n",
    "        on examples where the target is non-zero.\n",
    "\n",
    "        Parameters\n",
    "        ----------\n",
    "        X : array-like of shape (n_samples, n_features)\n",
    "            The training data.\n",
    "        y : array-like of shape (n_samples,)\n",
    "            The target values.\n",
    "        sample_weight : array-like of shape (n_samples,), default=None\n",
    "            Individual weights for each sample.\n",
    "\n",
    "        Returns\n",
    "        -------\n",
    "        self : ZeroInflatedRegressor\n",
    "            The fitted estimator.\n",
    "\n",
    "        Raises\n",
    "        ------\n",
    "        ValueError\n",
    "            If `classifier` is not a classifier or `regressor` is not a regressor.\n",
    "        \"\"\"\n",
    "        X, y = check_X_y(X, y)\n",
    "        self._check_n_features(X, reset=True)\n",
    "        if not is_classifier(self.classifier):\n",
    "            raise ValueError(\n",
    "                f\"`classifier` has to be a classifier. Received instance of {type(self.classifier)} instead.\"\n",
    "            )\n",
    "        if not is_regressor(self.regressor):\n",
    "            raise ValueError(f\"`regressor` has to be a regressor. Received instance of {type(self.regressor)} instead.\")\n",
    "\n",
    "        try:\n",
    "            check_is_fitted(self.classifier)\n",
    "            self.classifier_ = self.classifier\n",
    "        except NotFittedError:\n",
    "            self.classifier_ = clone(self.classifier)\n",
    "\n",
    "            if \"sample_weight\" in signature(self.classifier_.fit).parameters:\n",
    "                self.classifier_.fit(X, y != 0, sample_weight=sample_weight)\n",
    "            else:\n",
    "                logging.warning(\"Classifier ignores sample_weight.\")\n",
    "                self.classifier_.fit(X, y != 0)\n",
    "\n",
    "        non_zero_indices = np.where(self.classifier_.predict(X) == 1)[0]\n",
    "\n",
    "        if non_zero_indices.size > 0:\n",
    "            try:\n",
    "                check_is_fitted(self.regressor)\n",
    "                self.regressor_ = self.regressor\n",
    "            except NotFittedError:\n",
    "                self.regressor_ = clone(self.regressor)\n",
    "\n",
    "                if \"sample_weight\" in signature(self.regressor_.fit).parameters:\n",
    "                    self.regressor_.fit(\n",
    "                        X[non_zero_indices],\n",
    "                        y[non_zero_indices],\n",
    "                        sample_weight=sample_weight[non_zero_indices] if sample_weight is not None else None,\n",
    "                    )\n",
    "                else:\n",
    "                    logging.warning(\"Regressor ignores sample_weight.\")\n",
    "                    self.regressor_.fit(\n",
    "                        X[non_zero_indices],\n",
    "                        y[non_zero_indices],\n",
    "                    )\n",
    "        else:\n",
    "            raise ValueError(\n",
    "                \"\"\"The predicted training labels are all zero, making the regressor obsolete. Change the classifier\n",
    "                or use a plain regressor instead.\"\"\"\n",
    "            )\n",
    "\n",
    "        return self\n",
    "\n",
    "    def predict(self, X):\n",
    "        \"\"\"Predict target values for `X` using fitted estimator by first asking the classifier if the output should be\n",
    "        zero. If yes, output zero. Otherwise, ask the regressor for its prediction and output it.\n",
    "\n",
    "        Parameters\n",
    "        ----------\n",
    "        X : array-like of shape (n_samples, n_features)\n",
    "            The data to predict.\n",
    "\n",
    "        Returns\n",
    "        -------\n",
    "        array-like of shape (n_samples,)\n",
    "            The predicted values.\n",
    "        \"\"\"\n",
    "        check_is_fitted(self)\n",
    "        X = check_array(X)\n",
    "        self._check_n_features(X, reset=False)\n",
    "\n",
    "        output = np.zeros(len(X))\n",
    "        non_zero_indices = np.where(self.classifier_.predict(X))[0]\n",
    "\n",
    "        if non_zero_indices.size > 0:\n",
    "            output[non_zero_indices] = self.regressor_.predict(X[non_zero_indices])\n",
    "\n",
    "        return output"
   ]
  },
  {
   "cell_type": "code",
   "execution_count": 3,
   "id": "94cd89a7",
   "metadata": {},
   "outputs": [],
   "source": [
    "def runner(scaler, model, X_train, y_train, X_test):\n",
    "    scaler.fit(X_train)\n",
    "    Xt_train = scaler.transform(X_train)\n",
    "    Xt_test = scaler.transform(X_test)\n",
    "\n",
    "    model.fit(Xt_train, y_train)\n",
    "    preds = model.predict(Xt_test)\n",
    "    return preds\n",
    "\n",
    "def sc_tester(model, X_train, y_train, X_test, y_test):      \n",
    "    scalers = [StandardScaler(), MinMaxScaler(), PowerTransformer(), RobustScaler(), MaxAbsScaler()]\n",
    "    results = []\n",
    "\n",
    "    for scaler in scalers:\n",
    "        preds = runner(scaler, model, X_train, y_train, X_test)\n",
    "\n",
    "        f1 = f1_score(y_test, preds, average=\"weighted\")\n",
    "        accuracy = accuracy_score(y_test, preds)\n",
    "        precision = precision_score(y_test, preds, average=\"weighted\")\n",
    "        recall = recall_score(y_test, preds, average=\"weighted\")\n",
    "        mcc = matthews_corrcoef(y_test, preds)\n",
    "\n",
    "        result_dict = {\n",
    "            'Scaler': str(scaler),\n",
    "            'Model': str(model),\n",
    "            'F1 Score': f1,\n",
    "            'Accuracy': accuracy,\n",
    "            'Precision': precision,\n",
    "            'Recall': recall,\n",
    "            'MCC': mcc\n",
    "        }\n",
    "\n",
    "        results.append(result_dict)\n",
    "\n",
    "    results_df = pd.DataFrame(results)\n",
    "    results_df = results_df.sort_values(by=['MCC'], ascending=False)\n",
    "    return results_df"
   ]
  },
  {
   "cell_type": "code",
   "execution_count": 4,
   "id": "92d221b1",
   "metadata": {},
   "outputs": [],
   "source": [
    "#REGRESSION FUNCTIONS\n",
    "def regression_plot(y_test_reg, y_predict, X_test):\n",
    "    \n",
    "    fig = plt.figure(figsize=(10,5))\n",
    "    plt.scatter(y_test_reg, y_predict, color='blue', alpha=0.2)\n",
    "    plt.xlabel(\"Prediction values\")\n",
    "    plt.ylabel(\"Truth values\")\n",
    "    plt.plot([min(y_test_reg),max(y_test_reg)], [min(y_test_reg),max(y_test_reg)], linestyle=\"-\", lw=1, color=\"k\")\n",
    "    plt.show()\n",
    "\n",
    "def regression_evaluation_df(truth, preds):\n",
    "    \n",
    "    rve = explained_variance_score(truth, preds)\n",
    "    rmse = mean_squared_error(truth, preds, squared=False)\n",
    "    corr, pval = pearsonr(truth, preds)\n",
    "    max_err = max_error(truth, preds)\n",
    "    mae = mean_absolute_error(truth, preds)\n",
    "\n",
    "    results = {'Test RVE': [rve], 'Test RMSE': [rmse], 'Test R^2': [corr], 'R^2 p-value': [pval], \n",
    "               'Test Maximum Error': [max_err], 'Test MAE': [mae]} \n",
    "    results_df = pd.DataFrame(results)\n",
    "    \n",
    "    return results_df\n",
    "\n",
    "def regression_scores(regression_name, regressor, X_train, y_train, parameters=None, metric=\"neg_mean_absolute_error\"):\n",
    "    \n",
    "    if parameters == None:\n",
    "        \n",
    "        kf = KFold(n_splits=5, shuffle=True)\n",
    "        kf.get_n_splits(X_train)\n",
    "        rve_scores, rmse_scores, r2_scores, max_error_scores, mae_scores = [], [], [], [], []\n",
    "        \n",
    "        X_train, y_train = np.array(X_train), np.array(y_train)\n",
    "        \n",
    "        for train_index, test_index in kf.split(X_train):\n",
    "            \n",
    "            X_train_fold, X_test_fold = X_train[train_index], X_train[test_index]\n",
    "            y_train_fold, y_test_fold = y_train[train_index], y_train[test_index]\n",
    "\n",
    "            regressor.fit(X_train_fold, y_train_fold)\n",
    "            preds = regressor.predict(X_test_fold)\n",
    "\n",
    "            rve_scores.append(explained_variance_score(y_test_fold, preds))\n",
    "            rmse_scores.append(mean_squared_error(y_test_fold, preds, squared=False))\n",
    "            r2_scores.append(r2_score(y_test_fold, preds))\n",
    "            max_error_scores.append(max_error(y_test_fold, preds))\n",
    "            mae_scores.append(mean_absolute_error(y_test_fold, preds))\n",
    "\n",
    "        eval_dict = {'Model' : [regression_name], 'CV RVE': [np.mean(rve_scores)], 'CV RMSE': [np.mean(rmse_scores)],\n",
    "                     'CV R^2': [np.mean(r2_scores)], 'CV Maximum Error': [np.mean(max_error_scores)], 'CV MAE': [np.mean(mae_scores)]}\n",
    "        eval_df = pd.DataFrame(eval_dict)\n",
    "        \n",
    "        return eval_df\n",
    "    \n",
    "    else:\n",
    "        \n",
    "        gs = GridSearchCV(regressor, parameters, cv=5, scoring=metric)\n",
    "        gs.fit(X_train, y_train)\n",
    "\n",
    "        best_params, best_score = gs.best_params_, gs.best_score_\n",
    "        \n",
    "        dict_scorers = {'rve': 'explained_variance', 'rmse': 'neg_mean_squared_error', 'r2': 'r2',\n",
    "                        'maximum_error': 'max_error', 'mae': 'neg_mean_absolute_error'}\n",
    "        \n",
    "        scores = cross_validate(gs, X_train, y_train, cv=5, scoring=dict_scorers, n_jobs=-1)\n",
    "        \n",
    "        eval_dict = {'Model': [regression_name], 'CV RVE': [np.mean(scores['test_rve'])], 'CV RMSE': [np.mean(np.sqrt(np.abs(scores['test_rmse'])))],\n",
    "                     'CV R^2': [np.mean(scores['test_r2'])], 'CV Maximum Error': [np.mean(scores['test_maximum_error'])], 'CV MAE': [np.mean(scores['test_mae'])]}\n",
    "        eval_df = pd.DataFrame(eval_dict)\n",
    "        \n",
    "        return gs.best_estimator_, eval_df, best_params"
   ]
  },
  {
   "cell_type": "code",
   "execution_count": 5,
   "id": "3207e5ca",
   "metadata": {},
   "outputs": [],
   "source": [
    "def classification_evaluation(y_test_clf, predictions):\n",
    "\n",
    "    accuracy = accuracy_score(y_test_clf, predictions)\n",
    "    precision = precision_score(y_test_clf, predictions)\n",
    "    recall = recall_score(y_test_clf, predictions)\n",
    "    f1 = f1_score(y_test_clf, predictions)\n",
    "    mcc = matthews_corrcoef(y_test_clf, predictions)\n",
    "\n",
    "    results = {'Test Accuracy': [accuracy], 'Test Precision': [precision], 'Test Recall': [recall], 'Test F1': [f1], 'Test MCC': [mcc]} \n",
    "    results_df = pd.DataFrame(results)\n",
    "    \n",
    "    return results_df\n",
    "\n",
    "def classification_model_evaluation(X_train, X_test, y_train, y_test, classifiers):\n",
    "    results_list = []\n",
    "    for name, (classifier, param_grid) in classifiers.items():\n",
    "        clf = classifier()\n",
    "        grid_search = GridSearchCV(clf, param_grid, cv=5, scoring='f1_micro', n_jobs=-1)\n",
    "        grid_search.fit(X_train, y_train)\n",
    "        \n",
    "        best_params = grid_search.best_params_\n",
    "        best_model = grid_search.best_estimator_\n",
    "        \n",
    "        predictions = best_model.predict(X_test)\n",
    "        results = classification_evaluation(y_test, predictions)\n",
    "        results_dict = {'Classifier': name, 'Best Params': best_params}\n",
    "        results_dict.update(results.iloc[0].to_dict())  # Add evaluation metrics to the results_dict\n",
    "        results_list.append(results_dict)\n",
    "    \n",
    "    results_df = pd.DataFrame(results_list)\n",
    "    return results_df\n",
    "\n",
    "\n",
    "classifier_params = {\n",
    "    'Logistic Regression': (LogisticRegression, {'C': [0.001, 0.01, 0.1, 1.0, 10.0], 'max_iter': [1000]}),\n",
    "    'SVM': (SVC, {'C': [0.001, 0.01, 0.1, 1.0], 'kernel': ['linear', 'rbf'], 'gamma': ['scale', 'auto']}),\n",
    "    'Decision Tree': (DecisionTreeClassifier, {'max_depth': [None, 10, 20, 30], 'min_samples_split': [2, 5, 10]}),\n",
    "    'Random Forest': (RandomForestClassifier, {'n_estimators': [50, 100, 200], 'max_depth': [None, 10, 20, 30]}),\n",
    "    'LightGBM': (LGBMClassifier, {'n_estimators': [50, 100, 200,500,600], 'num_leaves': [10, 20, 30, 40, 50, 60, 70, 80, 90, 100], 'learning_rate': [0.01, 0.1, 0.2, 0.5, 1.0]}),\n",
    "}"
   ]
  },
  {
   "cell_type": "markdown",
   "id": "fd8c6006",
   "metadata": {},
   "source": [
    "## Data preprocessing"
   ]
  },
  {
   "cell_type": "code",
   "execution_count": 6,
   "id": "098c9c19",
   "metadata": {},
   "outputs": [],
   "source": [
    "X_train, X_ivs, y_train, col_names = pickle.load(open(\"drd2_data.pickle\", \"rb\"))"
   ]
  },
  {
   "cell_type": "code",
   "execution_count": 7,
   "id": "8cbc199e",
   "metadata": {},
   "outputs": [],
   "source": [
    "X_train = pd.DataFrame(X_train, columns=col_names)\n",
    "y_train = pd.DataFrame(y_train, columns=['target'])"
   ]
  },
  {
   "cell_type": "code",
   "execution_count": 8,
   "id": "1ecb4fab",
   "metadata": {},
   "outputs": [],
   "source": [
    "y_train_class = y_train.copy()\n",
    "y_train_class['Target'] = y_train_class['target'].apply(lambda x: 1 if x == 0 else 0)\n",
    "y_train_class = y_train_class.astype('category')\n",
    "y_train_class = y_train_class.drop(columns=['target'])\n",
    "y_train_class = y_train_class"
   ]
  },
  {
   "cell_type": "code",
   "execution_count": 9,
   "id": "efd1bb12",
   "metadata": {},
   "outputs": [
    {
     "data": {
      "text/plain": [
       "0    6130\n",
       "1    1207\n",
       "Name: Target, dtype: int64"
      ]
     },
     "execution_count": 9,
     "metadata": {},
     "output_type": "execute_result"
    }
   ],
   "source": [
    "y_train_class['Target'].value_counts()"
   ]
  },
  {
   "cell_type": "code",
   "execution_count": 10,
   "id": "bdac52ce",
   "metadata": {},
   "outputs": [
    {
     "data": {
      "image/png": "[encoded data removed]",
      "text/plain": [
       "<Figure size 720x432 with 1 Axes>"
      ]
     },
     "metadata": {
      "needs_background": "light"
     },
     "output_type": "display_data"
    }
   ],
   "source": [
    "plt.figure(figsize=(10, 6))\n",
    "sns.histplot(y_train.values.flatten(), bins=30, kde=False, color='blue')\n",
    "plt.title('Distribution of Target Variable')\n",
    "plt.xlabel('Target Variable')\n",
    "plt.ylabel('Frequency')\n",
    "plt.show()"
   ]
  },
  {
   "cell_type": "code",
   "execution_count": 11,
   "id": "74a07323",
   "metadata": {},
   "outputs": [
    {
     "data": {
      "text/plain": [
       "Index([], dtype='object')"
      ]
     },
     "execution_count": 11,
     "metadata": {},
     "output_type": "execute_result"
    }
   ],
   "source": [
    "X_train.columns[X_train.isnull().any()]"
   ]
  },
  {
   "cell_type": "code",
   "execution_count": 12,
   "id": "9403b609",
   "metadata": {},
   "outputs": [
    {
     "name": "stdout",
     "output_type": "stream",
     "text": [
      "<class 'pandas.core.frame.DataFrame'>\n",
      "RangeIndex: 7337 entries, 0 to 7336\n",
      "Columns: 2132 entries, D00 to FP2088\n",
      "dtypes: float64(2132)\n",
      "memory usage: 119.3 MB\n"
     ]
    }
   ],
   "source": [
    "X_train.info()"
   ]
  },
  {
   "cell_type": "code",
   "execution_count": 13,
   "id": "0856005a",
   "metadata": {},
   "outputs": [
    {
     "data": {
      "image/png": "[encoded data removed]",
      "text/plain": [
       "<Figure size 864x360 with 1 Axes>"
      ]
     },
     "metadata": {
      "needs_background": "light"
     },
     "output_type": "display_data"
    }
   ],
   "source": [
    "plt.figure(figsize=(12, 5))\n",
    "plt.plot(X_train.min(axis=0), 'o', label=\"min\") \n",
    "plt.plot(X_train.max(axis=0), 'o', label=\"max\")\n",
    "plt.title('Min and Max Values for Each Column')\n",
    "plt.legend(loc=\"best\")\n",
    "plt.xlabel(\"Column Index\")\n",
    "plt.ylabel(\"Value\")\n",
    "plt.show()"
   ]
  },
  {
   "cell_type": "code",
   "execution_count": 14,
   "id": "c655918c",
   "metadata": {},
   "outputs": [],
   "source": [
    "complete_x = X_train.copy()\n",
    "complete_y = y_train_class.copy()\n",
    "\n",
    "X_train_comp, X_test_comp, y_train_comp, y_test_comp = train_test_split(complete_x, complete_y, test_size=0.2, random_state=505)"
   ]
  },
  {
   "cell_type": "code",
   "execution_count": 15,
   "id": "6d1f4a45",
   "metadata": {},
   "outputs": [],
   "source": [
    "binary_columns_train = [col for col in X_train.columns if set(X_train[col]) == {0, 1}]  # get the binary columns\n",
    "\n",
    "binary_x = X_train[binary_columns_train].copy()\n",
    "binary_y = y_train_class.copy()\n",
    "\n",
    "X_train_bin, X_test_bin, y_train_bin, y_test_bin = train_test_split(binary_x, binary_y, test_size=0.2, random_state=505)"
   ]
  },
  {
   "cell_type": "code",
   "execution_count": 16,
   "id": "146cf6c3",
   "metadata": {},
   "outputs": [],
   "source": [
    "float_x = X_train.drop(binary_columns_train, axis=1).copy()\n",
    "float_y = y_train_class.copy()\n",
    "\n",
    "X_train_float, X_test_float, y_train_float, y_test_float = train_test_split(float_x, float_y, test_size=0.2, random_state=505)"
   ]
  },
  {
   "cell_type": "code",
   "execution_count": 17,
   "id": "7294b7a0",
   "metadata": {},
   "outputs": [
    {
     "data": {
      "image/png": "[encoded data removed]",
      "text/plain": [
       "<Figure size 1440x360 with 1 Axes>"
      ]
     },
     "metadata": {
      "needs_background": "light"
     },
     "output_type": "display_data"
    }
   ],
   "source": [
    "data = float_x\n",
    "plt.figure(figsize=(20, 5))\n",
    "plt.plot(data.min(axis=0), 'o', label=\"min\") \n",
    "plt.plot(data.max(axis=0), 'o', label=\"max\")\n",
    "plt.legend(loc=\"best\")\n",
    "plt.grid()\n",
    "plt.title(\"Min and Max Values for Each Column (float_x)\")\n",
    "plt.xlabel(\"Column Index\")\n",
    "plt.ylabel(\"Value\")\n",
    "plt.show()"
   ]
  },
  {
   "cell_type": "code",
   "execution_count": 18,
   "id": "1e41ab54",
   "metadata": {},
   "outputs": [
    {
     "data": {
      "image/png": "[encoded data removed]",
      "text/plain": [
       "<Figure size 432x288 with 1 Axes>"
      ]
     },
     "metadata": {
      "needs_background": "light"
     },
     "output_type": "display_data"
    },
    {
     "data": {
      "image/png": "[encoded data removed]",
      "text/plain": [
       "<Figure size 432x288 with 1 Axes>"
      ]
     },
     "metadata": {
      "needs_background": "light"
     },
     "output_type": "display_data"
    },
    {
     "data": {
      "image/png": "[encoded data removed]",
      "text/plain": [
       "<Figure size 432x288 with 1 Axes>"
      ]
     },
     "metadata": {
      "needs_background": "light"
     },
     "output_type": "display_data"
    },
    {
     "data": {
      "image/png": "[encoded data removed]",
      "text/plain": [
       "<Figure size 432x288 with 1 Axes>"
      ]
     },
     "metadata": {
      "needs_background": "light"
     },
     "output_type": "display_data"
    },
    {
     "data": {
      "image/png": "[encoded data removed]",
      "text/plain": [
       "<Figure size 432x288 with 1 Axes>"
      ]
     },
     "metadata": {
      "needs_background": "light"
     },
     "output_type": "display_data"
    },
    {
     "data": {
      "image/png": "[encoded data removed]",
      "text/plain": [
       "<Figure size 432x288 with 1 Axes>"
      ]
     },
     "metadata": {
      "needs_background": "light"
     },
     "output_type": "display_data"
    },
    {
     "data": {
      "image/png": "[encoded data removed]",
      "text/plain": [
       "<Figure size 432x288 with 1 Axes>"
      ]
     },
     "metadata": {
      "needs_background": "light"
     },
     "output_type": "display_data"
    },
    {
     "data": {
      "image/png": "[encoded data removed]",
      "text/plain": [
       "<Figure size 432x288 with 1 Axes>"
      ]
     },
     "metadata": {
      "needs_background": "light"
     },
     "output_type": "display_data"
    },
    {
     "data": {
      "image/png": "[encoded data removed]",
      "text/plain": [
       "<Figure size 432x288 with 1 Axes>"
      ]
     },
     "metadata": {
      "needs_background": "light"
     },
     "output_type": "display_data"
    },
    {
     "data": {
      "image/png": "[encoded data removed]",
      "text/plain": [
       "<Figure size 432x288 with 1 Axes>"
      ]
     },
     "metadata": {
      "needs_background": "light"
     },
     "output_type": "display_data"
    },
    {
     "data": {
      "image/png": "[encoded data removed]",
      "text/plain": [
       "<Figure size 432x288 with 1 Axes>"
      ]
     },
     "metadata": {
      "needs_background": "light"
     },
     "output_type": "display_data"
    },
    {
     "data": {
      "image/png": "[encoded data removed]",
      "text/plain": [
       "<Figure size 432x288 with 1 Axes>"
      ]
     },
     "metadata": {
      "needs_background": "light"
     },
     "output_type": "display_data"
    },
    {
     "data": {
      "image/png": "[encoded data removed]",
      "text/plain": [
       "<Figure size 432x288 with 1 Axes>"
      ]
     },
     "metadata": {
      "needs_background": "light"
     },
     "output_type": "display_data"
    },
    {
     "data": {
      "image/png": "[encoded data removed]",
      "text/plain": [
       "<Figure size 432x288 with 1 Axes>"
      ]
     },
     "metadata": {
      "needs_background": "light"
     },
     "output_type": "display_data"
    },
    {
     "data": {
      "image/png": "[encoded data removed]",
      "text/plain": [
       "<Figure size 432x288 with 1 Axes>"
      ]
     },
     "metadata": {
      "needs_background": "light"
     },
     "output_type": "display_data"
    },
    {
     "data": {
      "image/png": "[encoded data removed]",
      "text/plain": [
       "<Figure size 432x288 with 1 Axes>"
      ]
     },
     "metadata": {
      "needs_background": "light"
     },
     "output_type": "display_data"
    },
    {
     "data": {
      "image/png": "[encoded data removed]",
      "text/plain": [
       "<Figure size 432x288 with 1 Axes>"
      ]
     },
     "metadata": {
      "needs_background": "light"
     },
     "output_type": "display_data"
    },
    {
     "data": {
      "image/png": "[encoded data removed]",
      "text/plain": [
       "<Figure size 432x288 with 1 Axes>"
      ]
     },
     "metadata": {
      "needs_background": "light"
     },
     "output_type": "display_data"
    },
    {
     "data": {
      "image/png": "[encoded data removed]",
      "text/plain": [
       "<Figure size 432x288 with 1 Axes>"
      ]
     },
     "metadata": {
      "needs_background": "light"
     },
     "output_type": "display_data"
    },
    {
     "data": {
      "image/png": "[encoded data removed]",
      "text/plain": [
       "<Figure size 432x288 with 1 Axes>"
      ]
     },
     "metadata": {
      "needs_background": "light"
     },
     "output_type": "display_data"
    },
    {
     "data": {
      "image/png": "[encoded data removed]",
      "text/plain": [
       "<Figure size 432x288 with 1 Axes>"
      ]
     },
     "metadata": {
      "needs_background": "light"
     },
     "output_type": "display_data"
    },
    {
     "data": {
      "image/png": "[encoded data removed]",
      "text/plain": [
       "<Figure size 432x288 with 1 Axes>"
      ]
     },
     "metadata": {
      "needs_background": "light"
     },
     "output_type": "display_data"
    },
    {
     "data": {
      "image/png": "[encoded data removed]",
      "text/plain": [
       "<Figure size 432x288 with 1 Axes>"
      ]
     },
     "metadata": {
      "needs_background": "light"
     },
     "output_type": "display_data"
    },
    {
     "data": {
      "image/png": "[encoded data removed]",
      "text/plain": [
       "<Figure size 432x288 with 1 Axes>"
      ]
     },
     "metadata": {
      "needs_background": "light"
     },
     "output_type": "display_data"
    },
    {
     "data": {
      "image/png": "[encoded data removed]",
      "text/plain": [
       "<Figure size 432x288 with 1 Axes>"
      ]
     },
     "metadata": {
      "needs_background": "light"
     },
     "output_type": "display_data"
    },
    {
     "data": {
      "image/png": "[encoded data removed]",
      "text/plain": [
       "<Figure size 432x288 with 1 Axes>"
      ]
     },
     "metadata": {
      "needs_background": "light"
     },
     "output_type": "display_data"
    },
    {
     "data": {
      "image/png": "[encoded data removed]",
      "text/plain": [
       "<Figure size 432x288 with 1 Axes>"
      ]
     },
     "metadata": {
      "needs_background": "light"
     },
     "output_type": "display_data"
    },
    {
     "data": {
      "image/png": "[encoded data removed]",
      "text/plain": [
       "<Figure size 432x288 with 1 Axes>"
      ]
     },
     "metadata": {
      "needs_background": "light"
     },
     "output_type": "display_data"
    },
    {
     "data": {
      "image/png": "[encoded data removed]",
      "text/plain": [
       "<Figure size 432x288 with 1 Axes>"
      ]
     },
     "metadata": {
      "needs_background": "light"
     },
     "output_type": "display_data"
    },
    {
     "data": {
      "image/png": "[encoded data removed]",
      "text/plain": [
       "<Figure size 432x288 with 1 Axes>"
      ]
     },
     "metadata": {
      "needs_background": "light"
     },
     "output_type": "display_data"
    },
    {
     "data": {
      "image/png": "[encoded data removed]",
      "text/plain": [
       "<Figure size 432x288 with 1 Axes>"
      ]
     },
     "metadata": {
      "needs_background": "light"
     },
     "output_type": "display_data"
    },
    {
     "data": {
      "image/png": "[encoded data removed]",
      "text/plain": [
       "<Figure size 432x288 with 1 Axes>"
      ]
     },
     "metadata": {
      "needs_background": "light"
     },
     "output_type": "display_data"
    },
    {
     "data": {
      "image/png": "[encoded data removed]",
      "text/plain": [
       "<Figure size 432x288 with 1 Axes>"
      ]
     },
     "metadata": {
      "needs_background": "light"
     },
     "output_type": "display_data"
    },
    {
     "data": {
      "image/png": "[encoded data removed]",
      "text/plain": [
       "<Figure size 432x288 with 1 Axes>"
      ]
     },
     "metadata": {
      "needs_background": "light"
     },
     "output_type": "display_data"
    },
    {
     "data": {
      "image/png": "[encoded data removed]",
      "text/plain": [
       "<Figure size 432x288 with 1 Axes>"
      ]
     },
     "metadata": {
      "needs_background": "light"
     },
     "output_type": "display_data"
    },
    {
     "data": {
      "image/png": "[encoded data removed]",
      "text/plain": [
       "<Figure size 432x288 with 1 Axes>"
      ]
     },
     "metadata": {
      "needs_background": "light"
     },
     "output_type": "display_data"
    },
    {
     "data": {
      "image/png": "[encoded data removed]",
      "text/plain": [
       "<Figure size 432x288 with 1 Axes>"
      ]
     },
     "metadata": {
      "needs_background": "light"
     },
     "output_type": "display_data"
    },
    {
     "data": {
      "image/png": "[encoded data removed]",
      "text/plain": [
       "<Figure size 432x288 with 1 Axes>"
      ]
     },
     "metadata": {
      "needs_background": "light"
     },
     "output_type": "display_data"
    },
    {
     "data": {
      "image/png": "[encoded data removed]",
      "text/plain": [
       "<Figure size 432x288 with 1 Axes>"
      ]
     },
     "metadata": {
      "needs_background": "light"
     },
     "output_type": "display_data"
    },
    {
     "data": {
      "image/png": "[encoded data removed]",
      "text/plain": [
       "<Figure size 432x288 with 1 Axes>"
      ]
     },
     "metadata": {
      "needs_background": "light"
     },
     "output_type": "display_data"
    },
    {
     "data": {
      "image/png": "[encoded data removed]",
      "text/plain": [
       "<Figure size 432x288 with 1 Axes>"
      ]
     },
     "metadata": {
      "needs_background": "light"
     },
     "output_type": "display_data"
    },
    {
     "data": {
      "image/png": "[encoded data removed]",
      "text/plain": [
       "<Figure size 432x288 with 1 Axes>"
      ]
     },
     "metadata": {
      "needs_background": "light"
     },
     "output_type": "display_data"
    }
   ],
   "source": [
    "for feature in data.columns:\n",
    "    plt.hist(data[feature], bins='auto', density=True, alpha=0.75)\n",
    "    plt.title(f'Distribution of {feature}')\n",
    "    plt.xlabel(f'{feature} Values')\n",
    "    plt.ylabel('Frequency')\n",
    "    plt.show()"
   ]
  },
  {
   "cell_type": "code",
   "execution_count": 19,
   "id": "99fcc456",
   "metadata": {},
   "outputs": [
    {
     "data": {
      "text/html": [
       "<div>\n",
       "<style scoped>\n",
       "    .dataframe tbody tr th:only-of-type {\n",
       "        vertical-align: middle;\n",
       "    }\n",
       "\n",
       "    .dataframe tbody tr th {\n",
       "        vertical-align: top;\n",
       "    }\n",
       "\n",
       "    .dataframe thead th {\n",
       "        text-align: right;\n",
       "    }\n",
       "</style>\n",
       "<table border=\"1\" class=\"dataframe\">\n",
       "  <thead>\n",
       "    <tr style=\"text-align: right;\">\n",
       "      <th></th>\n",
       "      <th>column</th>\n",
       "      <th>min</th>\n",
       "      <th>max</th>\n",
       "    </tr>\n",
       "  </thead>\n",
       "  <tbody>\n",
       "    <tr>\n",
       "      <th>0</th>\n",
       "      <td>D00</td>\n",
       "      <td>135.068414</td>\n",
       "      <td>3768.848446</td>\n",
       "    </tr>\n",
       "    <tr>\n",
       "      <th>1</th>\n",
       "      <td>D01</td>\n",
       "      <td>135.166000</td>\n",
       "      <td>3771.262000</td>\n",
       "    </tr>\n",
       "    <tr>\n",
       "      <th>2</th>\n",
       "      <td>D02</td>\n",
       "      <td>1.000000</td>\n",
       "      <td>92.000000</td>\n",
       "    </tr>\n",
       "    <tr>\n",
       "      <th>3</th>\n",
       "      <td>D03</td>\n",
       "      <td>0.000000</td>\n",
       "      <td>47.000000</td>\n",
       "    </tr>\n",
       "    <tr>\n",
       "      <th>4</th>\n",
       "      <td>D04</td>\n",
       "      <td>0.000000</td>\n",
       "      <td>137.000000</td>\n",
       "    </tr>\n",
       "    <tr>\n",
       "      <th>5</th>\n",
       "      <td>D05</td>\n",
       "      <td>0.000000</td>\n",
       "      <td>42.000000</td>\n",
       "    </tr>\n",
       "    <tr>\n",
       "      <th>6</th>\n",
       "      <td>D06</td>\n",
       "      <td>0.000000</td>\n",
       "      <td>58.000000</td>\n",
       "    </tr>\n",
       "    <tr>\n",
       "      <th>7</th>\n",
       "      <td>D07</td>\n",
       "      <td>10.000000</td>\n",
       "      <td>266.000000</td>\n",
       "    </tr>\n",
       "    <tr>\n",
       "      <th>8</th>\n",
       "      <td>D08</td>\n",
       "      <td>19.000000</td>\n",
       "      <td>527.000000</td>\n",
       "    </tr>\n",
       "    <tr>\n",
       "      <th>9</th>\n",
       "      <td>D09</td>\n",
       "      <td>1.000000</td>\n",
       "      <td>93.000000</td>\n",
       "    </tr>\n",
       "    <tr>\n",
       "      <th>10</th>\n",
       "      <td>D10</td>\n",
       "      <td>0.000000</td>\n",
       "      <td>30.000000</td>\n",
       "    </tr>\n",
       "    <tr>\n",
       "      <th>11</th>\n",
       "      <td>D11</td>\n",
       "      <td>0.000000</td>\n",
       "      <td>1.000000</td>\n",
       "    </tr>\n",
       "    <tr>\n",
       "      <th>12</th>\n",
       "      <td>D12</td>\n",
       "      <td>0.000000</td>\n",
       "      <td>14.000000</td>\n",
       "    </tr>\n",
       "    <tr>\n",
       "      <th>13</th>\n",
       "      <td>D13</td>\n",
       "      <td>0.000000</td>\n",
       "      <td>9.000000</td>\n",
       "    </tr>\n",
       "    <tr>\n",
       "      <th>14</th>\n",
       "      <td>D14</td>\n",
       "      <td>0.000000</td>\n",
       "      <td>11.000000</td>\n",
       "    </tr>\n",
       "    <tr>\n",
       "      <th>15</th>\n",
       "      <td>D15</td>\n",
       "      <td>0.000000</td>\n",
       "      <td>11.000000</td>\n",
       "    </tr>\n",
       "    <tr>\n",
       "      <th>16</th>\n",
       "      <td>D16</td>\n",
       "      <td>0.000000</td>\n",
       "      <td>9.000000</td>\n",
       "    </tr>\n",
       "    <tr>\n",
       "      <th>17</th>\n",
       "      <td>D17</td>\n",
       "      <td>0.000000</td>\n",
       "      <td>4.000000</td>\n",
       "    </tr>\n",
       "    <tr>\n",
       "      <th>18</th>\n",
       "      <td>D18</td>\n",
       "      <td>0.000000</td>\n",
       "      <td>7.000000</td>\n",
       "    </tr>\n",
       "    <tr>\n",
       "      <th>19</th>\n",
       "      <td>D19</td>\n",
       "      <td>0.000000</td>\n",
       "      <td>7.000000</td>\n",
       "    </tr>\n",
       "    <tr>\n",
       "      <th>20</th>\n",
       "      <td>D21</td>\n",
       "      <td>0.000000</td>\n",
       "      <td>8.000000</td>\n",
       "    </tr>\n",
       "    <tr>\n",
       "      <th>21</th>\n",
       "      <td>D22</td>\n",
       "      <td>0.000000</td>\n",
       "      <td>29.000000</td>\n",
       "    </tr>\n",
       "    <tr>\n",
       "      <th>22</th>\n",
       "      <td>D23</td>\n",
       "      <td>0.000000</td>\n",
       "      <td>10.000000</td>\n",
       "    </tr>\n",
       "    <tr>\n",
       "      <th>23</th>\n",
       "      <td>D24</td>\n",
       "      <td>59.499552</td>\n",
       "      <td>1542.223628</td>\n",
       "    </tr>\n",
       "    <tr>\n",
       "      <th>24</th>\n",
       "      <td>D25</td>\n",
       "      <td>3.240000</td>\n",
       "      <td>1365.490000</td>\n",
       "    </tr>\n",
       "    <tr>\n",
       "      <th>25</th>\n",
       "      <td>D26</td>\n",
       "      <td>-10.523160</td>\n",
       "      <td>16.768600</td>\n",
       "    </tr>\n",
       "    <tr>\n",
       "      <th>26</th>\n",
       "      <td>D27</td>\n",
       "      <td>40.300500</td>\n",
       "      <td>957.020500</td>\n",
       "    </tr>\n",
       "    <tr>\n",
       "      <th>27</th>\n",
       "      <td>D28</td>\n",
       "      <td>5.593478</td>\n",
       "      <td>150.889493</td>\n",
       "    </tr>\n",
       "    <tr>\n",
       "      <th>28</th>\n",
       "      <td>D29</td>\n",
       "      <td>3.306776</td>\n",
       "      <td>89.019955</td>\n",
       "    </tr>\n",
       "    <tr>\n",
       "      <th>29</th>\n",
       "      <td>D30</td>\n",
       "      <td>1.343578</td>\n",
       "      <td>42.983137</td>\n",
       "    </tr>\n",
       "    <tr>\n",
       "      <th>30</th>\n",
       "      <td>D31</td>\n",
       "      <td>1.343578</td>\n",
       "      <td>42.983137</td>\n",
       "    </tr>\n",
       "    <tr>\n",
       "      <th>31</th>\n",
       "      <td>D32</td>\n",
       "      <td>0.829281</td>\n",
       "      <td>28.951310</td>\n",
       "    </tr>\n",
       "    <tr>\n",
       "      <th>32</th>\n",
       "      <td>D33</td>\n",
       "      <td>5.593478</td>\n",
       "      <td>150.072997</td>\n",
       "    </tr>\n",
       "    <tr>\n",
       "      <th>33</th>\n",
       "      <td>D34</td>\n",
       "      <td>3.306776</td>\n",
       "      <td>87.971200</td>\n",
       "    </tr>\n",
       "    <tr>\n",
       "      <th>34</th>\n",
       "      <td>D35</td>\n",
       "      <td>1.073575</td>\n",
       "      <td>41.688090</td>\n",
       "    </tr>\n",
       "    <tr>\n",
       "      <th>35</th>\n",
       "      <td>D36</td>\n",
       "      <td>1.073575</td>\n",
       "      <td>41.688090</td>\n",
       "    </tr>\n",
       "    <tr>\n",
       "      <th>36</th>\n",
       "      <td>D37</td>\n",
       "      <td>0.534404</td>\n",
       "      <td>27.825543</td>\n",
       "    </tr>\n",
       "    <tr>\n",
       "      <th>37</th>\n",
       "      <td>D38</td>\n",
       "      <td>-25.750000</td>\n",
       "      <td>0.480000</td>\n",
       "    </tr>\n",
       "    <tr>\n",
       "      <th>38</th>\n",
       "      <td>D39</td>\n",
       "      <td>5.593184</td>\n",
       "      <td>224.520935</td>\n",
       "    </tr>\n",
       "    <tr>\n",
       "      <th>39</th>\n",
       "      <td>D40</td>\n",
       "      <td>1.904405</td>\n",
       "      <td>127.943354</td>\n",
       "    </tr>\n",
       "    <tr>\n",
       "      <th>40</th>\n",
       "      <td>D41</td>\n",
       "      <td>0.513626</td>\n",
       "      <td>93.203717</td>\n",
       "    </tr>\n",
       "    <tr>\n",
       "      <th>41</th>\n",
       "      <td>D42</td>\n",
       "      <td>0.946215</td>\n",
       "      <td>107.992337</td>\n",
       "    </tr>\n",
       "  </tbody>\n",
       "</table>\n",
       "</div>"
      ],
      "text/plain": [
       "   column         min          max\n",
       "0     D00  135.068414  3768.848446\n",
       "1     D01  135.166000  3771.262000\n",
       "2     D02    1.000000    92.000000\n",
       "3     D03    0.000000    47.000000\n",
       "4     D04    0.000000   137.000000\n",
       "5     D05    0.000000    42.000000\n",
       "6     D06    0.000000    58.000000\n",
       "7     D07   10.000000   266.000000\n",
       "8     D08   19.000000   527.000000\n",
       "9     D09    1.000000    93.000000\n",
       "10    D10    0.000000    30.000000\n",
       "11    D11    0.000000     1.000000\n",
       "12    D12    0.000000    14.000000\n",
       "13    D13    0.000000     9.000000\n",
       "14    D14    0.000000    11.000000\n",
       "15    D15    0.000000    11.000000\n",
       "16    D16    0.000000     9.000000\n",
       "17    D17    0.000000     4.000000\n",
       "18    D18    0.000000     7.000000\n",
       "19    D19    0.000000     7.000000\n",
       "20    D21    0.000000     8.000000\n",
       "21    D22    0.000000    29.000000\n",
       "22    D23    0.000000    10.000000\n",
       "23    D24   59.499552  1542.223628\n",
       "24    D25    3.240000  1365.490000\n",
       "25    D26  -10.523160    16.768600\n",
       "26    D27   40.300500   957.020500\n",
       "27    D28    5.593478   150.889493\n",
       "28    D29    3.306776    89.019955\n",
       "29    D30    1.343578    42.983137\n",
       "30    D31    1.343578    42.983137\n",
       "31    D32    0.829281    28.951310\n",
       "32    D33    5.593478   150.072997\n",
       "33    D34    3.306776    87.971200\n",
       "34    D35    1.073575    41.688090\n",
       "35    D36    1.073575    41.688090\n",
       "36    D37    0.534404    27.825543\n",
       "37    D38  -25.750000     0.480000\n",
       "38    D39    5.593184   224.520935\n",
       "39    D40    1.904405   127.943354\n",
       "40    D41    0.513626    93.203717\n",
       "41    D42    0.946215   107.992337"
      ]
     },
     "execution_count": 19,
     "metadata": {},
     "output_type": "execute_result"
    }
   ],
   "source": [
    "results = []\n",
    "for col in data.columns:\n",
    "    min_val = data[col].min()\n",
    "    max_val = data[col].max()\n",
    "    results.append((col, min_val, max_val))\n",
    "\n",
    "check = pd.DataFrame(results, columns=['column', 'min', 'max'])\n",
    "check"
   ]
  },
  {
   "cell_type": "code",
   "execution_count": 20,
   "id": "651820ba",
   "metadata": {},
   "outputs": [
    {
     "data": {
      "image/png": "[encoded data removed]",
      "text/plain": [
       "<Figure size 432x288 with 1 Axes>"
      ]
     },
     "metadata": {
      "needs_background": "light"
     },
     "output_type": "display_data"
    }
   ],
   "source": [
    "data['D11'].hist(bins=20)\n",
    "plt.title(f'Distribution of D11')\n",
    "plt.xlabel('Column D11')\n",
    "plt.ylabel('Frequency')\n",
    "plt.show()"
   ]
  },
  {
   "cell_type": "code",
   "execution_count": 21,
   "id": "88a32abc",
   "metadata": {},
   "outputs": [
    {
     "data": {
      "text/html": [
       "<div>\n",
       "<style scoped>\n",
       "    .dataframe tbody tr th:only-of-type {\n",
       "        vertical-align: middle;\n",
       "    }\n",
       "\n",
       "    .dataframe tbody tr th {\n",
       "        vertical-align: top;\n",
       "    }\n",
       "\n",
       "    .dataframe thead th {\n",
       "        text-align: right;\n",
       "    }\n",
       "</style>\n",
       "<table border=\"1\" class=\"dataframe\">\n",
       "  <thead>\n",
       "    <tr style=\"text-align: right;\">\n",
       "      <th></th>\n",
       "      <th>Scaler</th>\n",
       "      <th>Model</th>\n",
       "      <th>F1 Score</th>\n",
       "      <th>Accuracy</th>\n",
       "      <th>Precision</th>\n",
       "      <th>Recall</th>\n",
       "      <th>MCC</th>\n",
       "    </tr>\n",
       "  </thead>\n",
       "  <tbody>\n",
       "    <tr>\n",
       "      <th>0</th>\n",
       "      <td>StandardScaler()</td>\n",
       "      <td>RandomForestClassifier()</td>\n",
       "      <td>0.841087</td>\n",
       "      <td>0.859673</td>\n",
       "      <td>0.843842</td>\n",
       "      <td>0.859673</td>\n",
       "      <td>0.427811</td>\n",
       "    </tr>\n",
       "    <tr>\n",
       "      <th>3</th>\n",
       "      <td>RobustScaler()</td>\n",
       "      <td>RandomForestClassifier()</td>\n",
       "      <td>0.841087</td>\n",
       "      <td>0.859673</td>\n",
       "      <td>0.843842</td>\n",
       "      <td>0.859673</td>\n",
       "      <td>0.427811</td>\n",
       "    </tr>\n",
       "    <tr>\n",
       "      <th>2</th>\n",
       "      <td>PowerTransformer()</td>\n",
       "      <td>RandomForestClassifier()</td>\n",
       "      <td>0.840382</td>\n",
       "      <td>0.858311</td>\n",
       "      <td>0.841951</td>\n",
       "      <td>0.858311</td>\n",
       "      <td>0.424059</td>\n",
       "    </tr>\n",
       "    <tr>\n",
       "      <th>4</th>\n",
       "      <td>MaxAbsScaler()</td>\n",
       "      <td>RandomForestClassifier()</td>\n",
       "      <td>0.837570</td>\n",
       "      <td>0.856948</td>\n",
       "      <td>0.839991</td>\n",
       "      <td>0.856948</td>\n",
       "      <td>0.414079</td>\n",
       "    </tr>\n",
       "    <tr>\n",
       "      <th>1</th>\n",
       "      <td>MinMaxScaler()</td>\n",
       "      <td>RandomForestClassifier()</td>\n",
       "      <td>0.834362</td>\n",
       "      <td>0.853542</td>\n",
       "      <td>0.835234</td>\n",
       "      <td>0.853542</td>\n",
       "      <td>0.400450</td>\n",
       "    </tr>\n",
       "  </tbody>\n",
       "</table>\n",
       "</div>"
      ],
      "text/plain": [
       "               Scaler                     Model  F1 Score  Accuracy  \\\n",
       "0    StandardScaler()  RandomForestClassifier()  0.841087  0.859673   \n",
       "3      RobustScaler()  RandomForestClassifier()  0.841087  0.859673   \n",
       "2  PowerTransformer()  RandomForestClassifier()  0.840382  0.858311   \n",
       "4      MaxAbsScaler()  RandomForestClassifier()  0.837570  0.856948   \n",
       "1      MinMaxScaler()  RandomForestClassifier()  0.834362  0.853542   \n",
       "\n",
       "   Precision    Recall       MCC  \n",
       "0   0.843842  0.859673  0.427811  \n",
       "3   0.843842  0.859673  0.427811  \n",
       "2   0.841951  0.858311  0.424059  \n",
       "4   0.839991  0.856948  0.414079  \n",
       "1   0.835234  0.853542  0.400450  "
      ]
     },
     "execution_count": 21,
     "metadata": {},
     "output_type": "execute_result"
    }
   ],
   "source": [
    "rfc_scaler = sc_tester(RandomForestClassifier(), X_train_float, y_train_float, X_test_float, y_test_float)\n",
    "rfc_scaler"
   ]
  },
  {
   "cell_type": "code",
   "execution_count": 22,
   "id": "53052b41",
   "metadata": {},
   "outputs": [
    {
     "data": {
      "text/html": [
       "<div>\n",
       "<style scoped>\n",
       "    .dataframe tbody tr th:only-of-type {\n",
       "        vertical-align: middle;\n",
       "    }\n",
       "\n",
       "    .dataframe tbody tr th {\n",
       "        vertical-align: top;\n",
       "    }\n",
       "\n",
       "    .dataframe thead th {\n",
       "        text-align: right;\n",
       "    }\n",
       "</style>\n",
       "<table border=\"1\" class=\"dataframe\">\n",
       "  <thead>\n",
       "    <tr style=\"text-align: right;\">\n",
       "      <th></th>\n",
       "      <th>Scaler</th>\n",
       "      <th>Model</th>\n",
       "      <th>F1 Score</th>\n",
       "      <th>Accuracy</th>\n",
       "      <th>Precision</th>\n",
       "      <th>Recall</th>\n",
       "      <th>MCC</th>\n",
       "    </tr>\n",
       "  </thead>\n",
       "  <tbody>\n",
       "    <tr>\n",
       "      <th>3</th>\n",
       "      <td>RobustScaler()</td>\n",
       "      <td>LogisticRegression(max_iter=10000)</td>\n",
       "      <td>0.770735</td>\n",
       "      <td>0.833106</td>\n",
       "      <td>0.817953</td>\n",
       "      <td>0.833106</td>\n",
       "      <td>0.187774</td>\n",
       "    </tr>\n",
       "    <tr>\n",
       "      <th>0</th>\n",
       "      <td>StandardScaler()</td>\n",
       "      <td>LogisticRegression(max_iter=10000)</td>\n",
       "      <td>0.768214</td>\n",
       "      <td>0.832425</td>\n",
       "      <td>0.818991</td>\n",
       "      <td>0.832425</td>\n",
       "      <td>0.178286</td>\n",
       "    </tr>\n",
       "    <tr>\n",
       "      <th>2</th>\n",
       "      <td>PowerTransformer()</td>\n",
       "      <td>LogisticRegression(max_iter=10000)</td>\n",
       "      <td>0.773059</td>\n",
       "      <td>0.830381</td>\n",
       "      <td>0.794852</td>\n",
       "      <td>0.830381</td>\n",
       "      <td>0.175299</td>\n",
       "    </tr>\n",
       "    <tr>\n",
       "      <th>1</th>\n",
       "      <td>MinMaxScaler()</td>\n",
       "      <td>LogisticRegression(max_iter=10000)</td>\n",
       "      <td>0.751625</td>\n",
       "      <td>0.827657</td>\n",
       "      <td>0.857420</td>\n",
       "      <td>0.827657</td>\n",
       "      <td>0.098463</td>\n",
       "    </tr>\n",
       "    <tr>\n",
       "      <th>4</th>\n",
       "      <td>MaxAbsScaler()</td>\n",
       "      <td>LogisticRegression(max_iter=10000)</td>\n",
       "      <td>0.751625</td>\n",
       "      <td>0.827657</td>\n",
       "      <td>0.857420</td>\n",
       "      <td>0.827657</td>\n",
       "      <td>0.098463</td>\n",
       "    </tr>\n",
       "  </tbody>\n",
       "</table>\n",
       "</div>"
      ],
      "text/plain": [
       "               Scaler                               Model  F1 Score  Accuracy  \\\n",
       "3      RobustScaler()  LogisticRegression(max_iter=10000)  0.770735  0.833106   \n",
       "0    StandardScaler()  LogisticRegression(max_iter=10000)  0.768214  0.832425   \n",
       "2  PowerTransformer()  LogisticRegression(max_iter=10000)  0.773059  0.830381   \n",
       "1      MinMaxScaler()  LogisticRegression(max_iter=10000)  0.751625  0.827657   \n",
       "4      MaxAbsScaler()  LogisticRegression(max_iter=10000)  0.751625  0.827657   \n",
       "\n",
       "   Precision    Recall       MCC  \n",
       "3   0.817953  0.833106  0.187774  \n",
       "0   0.818991  0.832425  0.178286  \n",
       "2   0.794852  0.830381  0.175299  \n",
       "1   0.857420  0.827657  0.098463  \n",
       "4   0.857420  0.827657  0.098463  "
      ]
     },
     "execution_count": 22,
     "metadata": {},
     "output_type": "execute_result"
    }
   ],
   "source": [
    "lg_scaler = sc_tester(LogisticRegression(max_iter=10000), X_train_float, y_train_float, X_test_float, y_test_float)\n",
    "lg_scaler"
   ]
  },
  {
   "cell_type": "code",
   "execution_count": 23,
   "id": "7d1e60a7",
   "metadata": {},
   "outputs": [
    {
     "data": {
      "text/html": [
       "<div>\n",
       "<style scoped>\n",
       "    .dataframe tbody tr th:only-of-type {\n",
       "        vertical-align: middle;\n",
       "    }\n",
       "\n",
       "    .dataframe tbody tr th {\n",
       "        vertical-align: top;\n",
       "    }\n",
       "\n",
       "    .dataframe thead th {\n",
       "        text-align: right;\n",
       "    }\n",
       "</style>\n",
       "<table border=\"1\" class=\"dataframe\">\n",
       "  <thead>\n",
       "    <tr style=\"text-align: right;\">\n",
       "      <th></th>\n",
       "      <th>Scaler</th>\n",
       "      <th>Model</th>\n",
       "      <th>F1 Score</th>\n",
       "      <th>Accuracy</th>\n",
       "      <th>Precision</th>\n",
       "      <th>Recall</th>\n",
       "      <th>MCC</th>\n",
       "    </tr>\n",
       "  </thead>\n",
       "  <tbody>\n",
       "    <tr>\n",
       "      <th>0</th>\n",
       "      <td>StandardScaler()</td>\n",
       "      <td>DecisionTreeClassifier()</td>\n",
       "      <td>0.817073</td>\n",
       "      <td>0.818801</td>\n",
       "      <td>0.815475</td>\n",
       "      <td>0.818801</td>\n",
       "      <td>0.359031</td>\n",
       "    </tr>\n",
       "    <tr>\n",
       "      <th>2</th>\n",
       "      <td>PowerTransformer()</td>\n",
       "      <td>DecisionTreeClassifier()</td>\n",
       "      <td>0.817073</td>\n",
       "      <td>0.818801</td>\n",
       "      <td>0.815475</td>\n",
       "      <td>0.818801</td>\n",
       "      <td>0.359031</td>\n",
       "    </tr>\n",
       "    <tr>\n",
       "      <th>3</th>\n",
       "      <td>RobustScaler()</td>\n",
       "      <td>DecisionTreeClassifier()</td>\n",
       "      <td>0.813785</td>\n",
       "      <td>0.815395</td>\n",
       "      <td>0.812283</td>\n",
       "      <td>0.815395</td>\n",
       "      <td>0.347975</td>\n",
       "    </tr>\n",
       "    <tr>\n",
       "      <th>1</th>\n",
       "      <td>MinMaxScaler()</td>\n",
       "      <td>DecisionTreeClassifier()</td>\n",
       "      <td>0.813483</td>\n",
       "      <td>0.815395</td>\n",
       "      <td>0.811721</td>\n",
       "      <td>0.815395</td>\n",
       "      <td>0.345973</td>\n",
       "    </tr>\n",
       "    <tr>\n",
       "      <th>4</th>\n",
       "      <td>MaxAbsScaler()</td>\n",
       "      <td>DecisionTreeClassifier()</td>\n",
       "      <td>0.811876</td>\n",
       "      <td>0.813351</td>\n",
       "      <td>0.810488</td>\n",
       "      <td>0.813351</td>\n",
       "      <td>0.341764</td>\n",
       "    </tr>\n",
       "  </tbody>\n",
       "</table>\n",
       "</div>"
      ],
      "text/plain": [
       "               Scaler                     Model  F1 Score  Accuracy  \\\n",
       "0    StandardScaler()  DecisionTreeClassifier()  0.817073  0.818801   \n",
       "2  PowerTransformer()  DecisionTreeClassifier()  0.817073  0.818801   \n",
       "3      RobustScaler()  DecisionTreeClassifier()  0.813785  0.815395   \n",
       "1      MinMaxScaler()  DecisionTreeClassifier()  0.813483  0.815395   \n",
       "4      MaxAbsScaler()  DecisionTreeClassifier()  0.811876  0.813351   \n",
       "\n",
       "   Precision    Recall       MCC  \n",
       "0   0.815475  0.818801  0.359031  \n",
       "2   0.815475  0.818801  0.359031  \n",
       "3   0.812283  0.815395  0.347975  \n",
       "1   0.811721  0.815395  0.345973  \n",
       "4   0.810488  0.813351  0.341764  "
      ]
     },
     "execution_count": 23,
     "metadata": {},
     "output_type": "execute_result"
    }
   ],
   "source": [
    "dt_scaler = sc_tester(DecisionTreeClassifier(), X_train_float, y_train_float, X_test_float, y_test_float)\n",
    "dt_scaler"
   ]
  },
  {
   "cell_type": "code",
   "execution_count": 24,
   "id": "b729145a",
   "metadata": {},
   "outputs": [
    {
     "data": {
      "text/html": [
       "<div>\n",
       "<style scoped>\n",
       "    .dataframe tbody tr th:only-of-type {\n",
       "        vertical-align: middle;\n",
       "    }\n",
       "\n",
       "    .dataframe tbody tr th {\n",
       "        vertical-align: top;\n",
       "    }\n",
       "\n",
       "    .dataframe thead th {\n",
       "        text-align: right;\n",
       "    }\n",
       "</style>\n",
       "<table border=\"1\" class=\"dataframe\">\n",
       "  <thead>\n",
       "    <tr style=\"text-align: right;\">\n",
       "      <th></th>\n",
       "      <th>Scaler</th>\n",
       "      <th>Model</th>\n",
       "      <th>F1 Score</th>\n",
       "      <th>Accuracy</th>\n",
       "      <th>Precision</th>\n",
       "      <th>Recall</th>\n",
       "      <th>MCC</th>\n",
       "    </tr>\n",
       "  </thead>\n",
       "  <tbody>\n",
       "    <tr>\n",
       "      <th>2</th>\n",
       "      <td>PowerTransformer()</td>\n",
       "      <td>SVC()</td>\n",
       "      <td>0.799953</td>\n",
       "      <td>0.846730</td>\n",
       "      <td>0.844238</td>\n",
       "      <td>0.846730</td>\n",
       "      <td>0.314133</td>\n",
       "    </tr>\n",
       "    <tr>\n",
       "      <th>0</th>\n",
       "      <td>StandardScaler()</td>\n",
       "      <td>SVC()</td>\n",
       "      <td>0.784417</td>\n",
       "      <td>0.840599</td>\n",
       "      <td>0.844696</td>\n",
       "      <td>0.840599</td>\n",
       "      <td>0.263522</td>\n",
       "    </tr>\n",
       "    <tr>\n",
       "      <th>4</th>\n",
       "      <td>MaxAbsScaler()</td>\n",
       "      <td>SVC()</td>\n",
       "      <td>0.765328</td>\n",
       "      <td>0.833106</td>\n",
       "      <td>0.848132</td>\n",
       "      <td>0.833106</td>\n",
       "      <td>0.186508</td>\n",
       "    </tr>\n",
       "    <tr>\n",
       "      <th>1</th>\n",
       "      <td>MinMaxScaler()</td>\n",
       "      <td>SVC()</td>\n",
       "      <td>0.746749</td>\n",
       "      <td>0.825613</td>\n",
       "      <td>0.681637</td>\n",
       "      <td>0.825613</td>\n",
       "      <td>0.000000</td>\n",
       "    </tr>\n",
       "    <tr>\n",
       "      <th>3</th>\n",
       "      <td>RobustScaler()</td>\n",
       "      <td>SVC()</td>\n",
       "      <td>0.746749</td>\n",
       "      <td>0.825613</td>\n",
       "      <td>0.681637</td>\n",
       "      <td>0.825613</td>\n",
       "      <td>0.000000</td>\n",
       "    </tr>\n",
       "  </tbody>\n",
       "</table>\n",
       "</div>"
      ],
      "text/plain": [
       "               Scaler  Model  F1 Score  Accuracy  Precision    Recall  \\\n",
       "2  PowerTransformer()  SVC()  0.799953  0.846730   0.844238  0.846730   \n",
       "0    StandardScaler()  SVC()  0.784417  0.840599   0.844696  0.840599   \n",
       "4      MaxAbsScaler()  SVC()  0.765328  0.833106   0.848132  0.833106   \n",
       "1      MinMaxScaler()  SVC()  0.746749  0.825613   0.681637  0.825613   \n",
       "3      RobustScaler()  SVC()  0.746749  0.825613   0.681637  0.825613   \n",
       "\n",
       "        MCC  \n",
       "2  0.314133  \n",
       "0  0.263522  \n",
       "4  0.186508  \n",
       "1  0.000000  \n",
       "3  0.000000  "
      ]
     },
     "execution_count": 24,
     "metadata": {},
     "output_type": "execute_result"
    }
   ],
   "source": [
    "svc_scaler = sc_tester(SVC(), X_train_float, y_train_float, X_test_float, y_test_float)\n",
    "svc_scaler"
   ]
  },
  {
   "cell_type": "code",
   "execution_count": 25,
   "id": "d3f7265d",
   "metadata": {},
   "outputs": [
    {
     "name": "stdout",
     "output_type": "stream",
     "text": [
      "[LightGBM] [Info] Number of positive: 951, number of negative: 4918\n",
      "[LightGBM] [Info] Auto-choosing col-wise multi-threading, the overhead of testing was 0.002426 seconds.\n",
      "You can set `force_col_wise=true` to remove the overhead.\n",
      "[LightGBM] [Info] Total Bins 6039\n",
      "[LightGBM] [Info] Number of data points in the train set: 5869, number of used features: 42\n",
      "[LightGBM] [Info] [binary:BoostFromScore]: pavg=0.162038 -> initscore=-1.643143\n",
      "[LightGBM] [Info] Start training from score -1.643143\n",
      "[LightGBM] [Info] Number of positive: 951, number of negative: 4918\n",
      "[LightGBM] [Info] Auto-choosing col-wise multi-threading, the overhead of testing was 0.002236 seconds.\n",
      "You can set `force_col_wise=true` to remove the overhead.\n",
      "[LightGBM] [Info] Total Bins 6002\n",
      "[LightGBM] [Info] Number of data points in the train set: 5869, number of used features: 42\n",
      "[LightGBM] [Info] [binary:BoostFromScore]: pavg=0.162038 -> initscore=-1.643143\n",
      "[LightGBM] [Info] Start training from score -1.643143\n",
      "[LightGBM] [Info] Number of positive: 951, number of negative: 4918\n",
      "[LightGBM] [Info] Auto-choosing col-wise multi-threading, the overhead of testing was 0.001976 seconds.\n",
      "You can set `force_col_wise=true` to remove the overhead.\n",
      "[LightGBM] [Info] Total Bins 5528\n",
      "[LightGBM] [Info] Number of data points in the train set: 5869, number of used features: 40\n",
      "[LightGBM] [Info] [binary:BoostFromScore]: pavg=0.162038 -> initscore=-1.643143\n",
      "[LightGBM] [Info] Start training from score -1.643143\n",
      "[LightGBM] [Info] Number of positive: 951, number of negative: 4918\n",
      "[LightGBM] [Info] Auto-choosing col-wise multi-threading, the overhead of testing was 0.001792 seconds.\n",
      "You can set `force_col_wise=true` to remove the overhead.\n",
      "[LightGBM] [Info] Total Bins 6019\n",
      "[LightGBM] [Info] Number of data points in the train set: 5869, number of used features: 42\n",
      "[LightGBM] [Info] [binary:BoostFromScore]: pavg=0.162038 -> initscore=-1.643143\n",
      "[LightGBM] [Info] Start training from score -1.643143\n",
      "[LightGBM] [Info] Number of positive: 951, number of negative: 4918\n",
      "[LightGBM] [Info] Auto-choosing col-wise multi-threading, the overhead of testing was 0.002025 seconds.\n",
      "You can set `force_col_wise=true` to remove the overhead.\n",
      "[LightGBM] [Info] Total Bins 6005\n",
      "[LightGBM] [Info] Number of data points in the train set: 5869, number of used features: 42\n",
      "[LightGBM] [Info] [binary:BoostFromScore]: pavg=0.162038 -> initscore=-1.643143\n",
      "[LightGBM] [Info] Start training from score -1.643143\n"
     ]
    },
    {
     "data": {
      "text/html": [
       "<div>\n",
       "<style scoped>\n",
       "    .dataframe tbody tr th:only-of-type {\n",
       "        vertical-align: middle;\n",
       "    }\n",
       "\n",
       "    .dataframe tbody tr th {\n",
       "        vertical-align: top;\n",
       "    }\n",
       "\n",
       "    .dataframe thead th {\n",
       "        text-align: right;\n",
       "    }\n",
       "</style>\n",
       "<table border=\"1\" class=\"dataframe\">\n",
       "  <thead>\n",
       "    <tr style=\"text-align: right;\">\n",
       "      <th></th>\n",
       "      <th>Scaler</th>\n",
       "      <th>Model</th>\n",
       "      <th>F1 Score</th>\n",
       "      <th>Accuracy</th>\n",
       "      <th>Precision</th>\n",
       "      <th>Recall</th>\n",
       "      <th>MCC</th>\n",
       "    </tr>\n",
       "  </thead>\n",
       "  <tbody>\n",
       "    <tr>\n",
       "      <th>2</th>\n",
       "      <td>PowerTransformer()</td>\n",
       "      <td>LGBMClassifier()</td>\n",
       "      <td>0.850117</td>\n",
       "      <td>0.868529</td>\n",
       "      <td>0.856735</td>\n",
       "      <td>0.868529</td>\n",
       "      <td>0.466102</td>\n",
       "    </tr>\n",
       "    <tr>\n",
       "      <th>0</th>\n",
       "      <td>StandardScaler()</td>\n",
       "      <td>LGBMClassifier()</td>\n",
       "      <td>0.848971</td>\n",
       "      <td>0.867166</td>\n",
       "      <td>0.854606</td>\n",
       "      <td>0.867166</td>\n",
       "      <td>0.460680</td>\n",
       "    </tr>\n",
       "    <tr>\n",
       "      <th>1</th>\n",
       "      <td>MinMaxScaler()</td>\n",
       "      <td>LGBMClassifier()</td>\n",
       "      <td>0.846174</td>\n",
       "      <td>0.865804</td>\n",
       "      <td>0.853142</td>\n",
       "      <td>0.865804</td>\n",
       "      <td>0.451553</td>\n",
       "    </tr>\n",
       "    <tr>\n",
       "      <th>3</th>\n",
       "      <td>RobustScaler()</td>\n",
       "      <td>LGBMClassifier()</td>\n",
       "      <td>0.845305</td>\n",
       "      <td>0.863760</td>\n",
       "      <td>0.849686</td>\n",
       "      <td>0.863760</td>\n",
       "      <td>0.445457</td>\n",
       "    </tr>\n",
       "    <tr>\n",
       "      <th>4</th>\n",
       "      <td>MaxAbsScaler()</td>\n",
       "      <td>LGBMClassifier()</td>\n",
       "      <td>0.842486</td>\n",
       "      <td>0.862398</td>\n",
       "      <td>0.848050</td>\n",
       "      <td>0.862398</td>\n",
       "      <td>0.435990</td>\n",
       "    </tr>\n",
       "  </tbody>\n",
       "</table>\n",
       "</div>"
      ],
      "text/plain": [
       "               Scaler             Model  F1 Score  Accuracy  Precision  \\\n",
       "2  PowerTransformer()  LGBMClassifier()  0.850117  0.868529   0.856735   \n",
       "0    StandardScaler()  LGBMClassifier()  0.848971  0.867166   0.854606   \n",
       "1      MinMaxScaler()  LGBMClassifier()  0.846174  0.865804   0.853142   \n",
       "3      RobustScaler()  LGBMClassifier()  0.845305  0.863760   0.849686   \n",
       "4      MaxAbsScaler()  LGBMClassifier()  0.842486  0.862398   0.848050   \n",
       "\n",
       "     Recall       MCC  \n",
       "2  0.868529  0.466102  \n",
       "0  0.867166  0.460680  \n",
       "1  0.865804  0.451553  \n",
       "3  0.863760  0.445457  \n",
       "4  0.862398  0.435990  "
      ]
     },
     "execution_count": 25,
     "metadata": {},
     "output_type": "execute_result"
    }
   ],
   "source": [
    "lgbm_scaler = sc_tester(LGBMClassifier(), X_train_float, y_train_float, X_test_float, y_test_float)\n",
    "lgbm_scaler"
   ]
  },
  {
   "cell_type": "code",
   "execution_count": null,
   "id": "86db871e",
   "metadata": {},
   "outputs": [],
   "source": [
    "pca.fit_transform(x_train)\n",
    "pca.transform(x_test)"
   ]
  },
  {
   "cell_type": "code",
   "execution_count": 26,
   "id": "6e3add36",
   "metadata": {},
   "outputs": [],
   "source": [
    "scaler = PowerTransformer()\n",
    "X_train_float = scaler.fit_transform(X_train_float)\n",
    "X_test_float = scaler.transform(X_test_float)"
   ]
  },
  {
   "cell_type": "code",
   "execution_count": 27,
   "id": "a4b2dd5a",
   "metadata": {},
   "outputs": [
    {
     "name": "stdout",
     "output_type": "stream",
     "text": [
      "[LightGBM] [Info] Number of positive: 951, number of negative: 4918\n",
      "[LightGBM] [Info] Auto-choosing col-wise multi-threading, the overhead of testing was 0.002860 seconds.\n",
      "You can set `force_col_wise=true` to remove the overhead.\n",
      "[LightGBM] [Info] Total Bins 5528\n",
      "[LightGBM] [Info] Number of data points in the train set: 5869, number of used features: 40\n",
      "[LightGBM] [Info] [binary:BoostFromScore]: pavg=0.162038 -> initscore=-1.643143\n",
      "[LightGBM] [Info] Start training from score -1.643143\n"
     ]
    },
    {
     "data": {
      "text/html": [
       "<div>\n",
       "<style scoped>\n",
       "    .dataframe tbody tr th:only-of-type {\n",
       "        vertical-align: middle;\n",
       "    }\n",
       "\n",
       "    .dataframe tbody tr th {\n",
       "        vertical-align: top;\n",
       "    }\n",
       "\n",
       "    .dataframe thead th {\n",
       "        text-align: right;\n",
       "    }\n",
       "</style>\n",
       "<table border=\"1\" class=\"dataframe\">\n",
       "  <thead>\n",
       "    <tr style=\"text-align: right;\">\n",
       "      <th></th>\n",
       "      <th>Classifier</th>\n",
       "      <th>Best Params</th>\n",
       "      <th>Test Accuracy</th>\n",
       "      <th>Test Precision</th>\n",
       "      <th>Test Recall</th>\n",
       "      <th>Test F1</th>\n",
       "      <th>Test MCC</th>\n",
       "    </tr>\n",
       "  </thead>\n",
       "  <tbody>\n",
       "    <tr>\n",
       "      <th>0</th>\n",
       "      <td>Logistic Regression</td>\n",
       "      <td>{'C': 10.0, 'max_iter': 1000}</td>\n",
       "      <td>0.828338</td>\n",
       "      <td>0.550000</td>\n",
       "      <td>0.085938</td>\n",
       "      <td>0.148649</td>\n",
       "      <td>0.165677</td>\n",
       "    </tr>\n",
       "    <tr>\n",
       "      <th>1</th>\n",
       "      <td>SVM</td>\n",
       "      <td>{'C': 1.0, 'gamma': 'scale', 'kernel': 'rbf'}</td>\n",
       "      <td>0.846730</td>\n",
       "      <td>0.829787</td>\n",
       "      <td>0.152344</td>\n",
       "      <td>0.257426</td>\n",
       "      <td>0.314133</td>\n",
       "    </tr>\n",
       "    <tr>\n",
       "      <th>2</th>\n",
       "      <td>Decision Tree</td>\n",
       "      <td>{'max_depth': 10, 'min_samples_split': 2}</td>\n",
       "      <td>0.826975</td>\n",
       "      <td>0.508197</td>\n",
       "      <td>0.242188</td>\n",
       "      <td>0.328042</td>\n",
       "      <td>0.264857</td>\n",
       "    </tr>\n",
       "    <tr>\n",
       "      <th>3</th>\n",
       "      <td>Random Forest</td>\n",
       "      <td>{'max_depth': 30, 'n_estimators': 100}</td>\n",
       "      <td>0.859673</td>\n",
       "      <td>0.686567</td>\n",
       "      <td>0.359375</td>\n",
       "      <td>0.471795</td>\n",
       "      <td>0.427811</td>\n",
       "    </tr>\n",
       "    <tr>\n",
       "      <th>4</th>\n",
       "      <td>LightGBM</td>\n",
       "      <td>{'learning_rate': 0.1, 'n_estimators': 600, 'n...</td>\n",
       "      <td>0.861035</td>\n",
       "      <td>0.651163</td>\n",
       "      <td>0.437500</td>\n",
       "      <td>0.523364</td>\n",
       "      <td>0.457753</td>\n",
       "    </tr>\n",
       "  </tbody>\n",
       "</table>\n",
       "</div>"
      ],
      "text/plain": [
       "            Classifier                                        Best Params  \\\n",
       "0  Logistic Regression                      {'C': 10.0, 'max_iter': 1000}   \n",
       "1                  SVM      {'C': 1.0, 'gamma': 'scale', 'kernel': 'rbf'}   \n",
       "2        Decision Tree          {'max_depth': 10, 'min_samples_split': 2}   \n",
       "3        Random Forest             {'max_depth': 30, 'n_estimators': 100}   \n",
       "4             LightGBM  {'learning_rate': 0.1, 'n_estimators': 600, 'n...   \n",
       "\n",
       "   Test Accuracy  Test Precision  Test Recall   Test F1  Test MCC  \n",
       "0       0.828338        0.550000     0.085938  0.148649  0.165677  \n",
       "1       0.846730        0.829787     0.152344  0.257426  0.314133  \n",
       "2       0.826975        0.508197     0.242188  0.328042  0.264857  \n",
       "3       0.859673        0.686567     0.359375  0.471795  0.427811  \n",
       "4       0.861035        0.651163     0.437500  0.523364  0.457753  "
      ]
     },
     "execution_count": 27,
     "metadata": {},
     "output_type": "execute_result"
    }
   ],
   "source": [
    "results_float = classification_model_evaluation(X_train_float, X_test_float, y_train_float, y_test_float, classifier_params)\n",
    "results_float"
   ]
  },
  {
   "cell_type": "code",
   "execution_count": 29,
   "id": "e9e542c3",
   "metadata": {},
   "outputs": [
    {
     "data": {
      "text/plain": [
       "{'learning_rate': 0.1, 'n_estimators': 600, 'num_leaves': 40}"
      ]
     },
     "execution_count": 29,
     "metadata": {},
     "output_type": "execute_result"
    }
   ],
   "source": [
    "results_float.iloc[4][\"Best Params\"]"
   ]
  },
  {
   "cell_type": "code",
   "execution_count": 32,
   "id": "ab309cd0",
   "metadata": {},
   "outputs": [
    {
     "name": "stdout",
     "output_type": "stream",
     "text": [
      "[LightGBM] [Info] Number of positive: 4918, number of negative: 4918\n",
      "[LightGBM] [Info] Auto-choosing col-wise multi-threading, the overhead of testing was 0.005460 seconds.\n",
      "You can set `force_col_wise=true` to remove the overhead.\n",
      "[LightGBM] [Info] Total Bins 9675\n",
      "[LightGBM] [Info] Number of data points in the train set: 9836, number of used features: 40\n",
      "[LightGBM] [Info] [binary:BoostFromScore]: pavg=0.500000 -> initscore=0.000000\n",
      "[LightGBM] [Info] Number of positive: 951, number of negative: 4918\n",
      "[LightGBM] [Info] Auto-choosing col-wise multi-threading, the overhead of testing was 0.002642 seconds.\n",
      "You can set `force_col_wise=true` to remove the overhead.\n",
      "[LightGBM] [Info] Total Bins 5527\n",
      "[LightGBM] [Info] Number of data points in the train set: 5869, number of used features: 40\n",
      "[LightGBM] [Info] [binary:BoostFromScore]: pavg=0.162038 -> initscore=-1.643143\n",
      "[LightGBM] [Info] Start training from score -1.643143\n"
     ]
    },
    {
     "data": {
      "text/html": [
       "<div>\n",
       "<style scoped>\n",
       "    .dataframe tbody tr th:only-of-type {\n",
       "        vertical-align: middle;\n",
       "    }\n",
       "\n",
       "    .dataframe tbody tr th {\n",
       "        vertical-align: top;\n",
       "    }\n",
       "\n",
       "    .dataframe thead th {\n",
       "        text-align: right;\n",
       "    }\n",
       "</style>\n",
       "<table border=\"1\" class=\"dataframe\">\n",
       "  <thead>\n",
       "    <tr style=\"text-align: right;\">\n",
       "      <th></th>\n",
       "      <th>Test Accuracy</th>\n",
       "      <th>Test Precision</th>\n",
       "      <th>Test Recall</th>\n",
       "      <th>Test F1</th>\n",
       "      <th>Test MCC</th>\n",
       "    </tr>\n",
       "  </thead>\n",
       "  <tbody>\n",
       "    <tr>\n",
       "      <th>0</th>\n",
       "      <td>0.864441</td>\n",
       "      <td>0.674847</td>\n",
       "      <td>0.429688</td>\n",
       "      <td>0.52506</td>\n",
       "      <td>0.466136</td>\n",
       "    </tr>\n",
       "  </tbody>\n",
       "</table>\n",
       "</div>"
      ],
      "text/plain": [
       "   Test Accuracy  Test Precision  Test Recall  Test F1  Test MCC\n",
       "0       0.864441        0.674847     0.429688  0.52506  0.466136"
      ]
     },
     "execution_count": 32,
     "metadata": {},
     "output_type": "execute_result"
    }
   ],
   "source": [
    "scaler_float = PowerTransformer()\n",
    "X_train_float_scaled = scaler_float.fit_transform(X_train_float)\n",
    "X_test_float_scaled = scaler_float.transform(X_test_float)\n",
    "\n",
    "sm = SMOTE(random_state=505)\n",
    "X_train_float_resampled, y_train_float_resampled = sm.fit_resample(X_train_float_scaled, y_train_float)\n",
    "results_float = classification_model_evaluation(X_train_float_resampled, X_test_float_scaled, y_train_float_resampled, y_test_float, classifier_params)\n",
    "results_float\n",
    "\n",
    "#SEM SMOTE\n",
    "model = LGBMClassifier(learning_rate=0.1, n_estimators=600, num_leaves=40) #best classifier\n",
    "model.fit(X_train_float_scaled, y_train_float)\n",
    "\n",
    "preds = model.predict(X_test_float_scaled)\n",
    "classification_evaluation(y_test_float, preds)"
   ]
  },
  {
   "cell_type": "code",
   "execution_count": 33,
   "id": "318692af",
   "metadata": {},
   "outputs": [
    {
     "name": "stdout",
     "output_type": "stream",
     "text": [
      "[LightGBM] [Info] Number of positive: 4918, number of negative: 4918\n",
      "[LightGBM] [Info] Auto-choosing col-wise multi-threading, the overhead of testing was 0.003186 seconds.\n",
      "You can set `force_col_wise=true` to remove the overhead.\n",
      "[LightGBM] [Info] Total Bins 9675\n",
      "[LightGBM] [Info] Number of data points in the train set: 9836, number of used features: 40\n",
      "[LightGBM] [Info] [binary:BoostFromScore]: pavg=0.500000 -> initscore=0.000000\n"
     ]
    },
    {
     "data": {
      "text/html": [
       "<div>\n",
       "<style scoped>\n",
       "    .dataframe tbody tr th:only-of-type {\n",
       "        vertical-align: middle;\n",
       "    }\n",
       "\n",
       "    .dataframe tbody tr th {\n",
       "        vertical-align: top;\n",
       "    }\n",
       "\n",
       "    .dataframe thead th {\n",
       "        text-align: right;\n",
       "    }\n",
       "</style>\n",
       "<table border=\"1\" class=\"dataframe\">\n",
       "  <thead>\n",
       "    <tr style=\"text-align: right;\">\n",
       "      <th></th>\n",
       "      <th>Test Accuracy</th>\n",
       "      <th>Test Precision</th>\n",
       "      <th>Test Recall</th>\n",
       "      <th>Test F1</th>\n",
       "      <th>Test MCC</th>\n",
       "    </tr>\n",
       "  </thead>\n",
       "  <tbody>\n",
       "    <tr>\n",
       "      <th>0</th>\n",
       "      <td>0.867166</td>\n",
       "      <td>0.663102</td>\n",
       "      <td>0.484375</td>\n",
       "      <td>0.559819</td>\n",
       "      <td>0.492103</td>\n",
       "    </tr>\n",
       "  </tbody>\n",
       "</table>\n",
       "</div>"
      ],
      "text/plain": [
       "   Test Accuracy  Test Precision  Test Recall   Test F1  Test MCC\n",
       "0       0.867166        0.663102     0.484375  0.559819  0.492103"
      ]
     },
     "execution_count": 33,
     "metadata": {},
     "output_type": "execute_result"
    }
   ],
   "source": [
    "#COM SMOTE\n",
    "model = LGBMClassifier(learning_rate=0.1, n_estimators=600, num_leaves=40)\n",
    "model.fit(X_train_float_resampled, y_train_float_resampled)\n",
    "\n",
    "preds = model.predict(X_test_float_scaled)\n",
    "classification_evaluation(y_test_float, preds)"
   ]
  },
  {
   "cell_type": "code",
   "execution_count": null,
   "id": "c0144161",
   "metadata": {},
   "outputs": [],
   "source": []
  },
  {
   "cell_type": "code",
   "execution_count": 34,
   "id": "09a744ec",
   "metadata": {},
   "outputs": [
    {
     "data": {
      "text/html": [
       "<div>\n",
       "<style scoped>\n",
       "    .dataframe tbody tr th:only-of-type {\n",
       "        vertical-align: middle;\n",
       "    }\n",
       "\n",
       "    .dataframe tbody tr th {\n",
       "        vertical-align: top;\n",
       "    }\n",
       "\n",
       "    .dataframe thead th {\n",
       "        text-align: right;\n",
       "    }\n",
       "</style>\n",
       "<table border=\"1\" class=\"dataframe\">\n",
       "  <thead>\n",
       "    <tr style=\"text-align: right;\">\n",
       "      <th></th>\n",
       "      <th>0</th>\n",
       "      <th>1</th>\n",
       "      <th>2</th>\n",
       "      <th>3</th>\n",
       "      <th>4</th>\n",
       "      <th>5</th>\n",
       "      <th>6</th>\n",
       "      <th>7</th>\n",
       "    </tr>\n",
       "  </thead>\n",
       "  <tbody>\n",
       "    <tr>\n",
       "      <th>0</th>\n",
       "      <td>-3.482497</td>\n",
       "      <td>2.432890</td>\n",
       "      <td>3.299718</td>\n",
       "      <td>-1.474394</td>\n",
       "      <td>0.261484</td>\n",
       "      <td>0.594351</td>\n",
       "      <td>-0.036051</td>\n",
       "      <td>-2.072727</td>\n",
       "    </tr>\n",
       "    <tr>\n",
       "      <th>1</th>\n",
       "      <td>4.928687</td>\n",
       "      <td>4.475373</td>\n",
       "      <td>2.895276</td>\n",
       "      <td>-0.730576</td>\n",
       "      <td>-0.156450</td>\n",
       "      <td>-0.543903</td>\n",
       "      <td>-0.612983</td>\n",
       "      <td>0.537951</td>\n",
       "    </tr>\n",
       "    <tr>\n",
       "      <th>2</th>\n",
       "      <td>3.181558</td>\n",
       "      <td>1.389900</td>\n",
       "      <td>0.438418</td>\n",
       "      <td>1.025445</td>\n",
       "      <td>-1.315117</td>\n",
       "      <td>-0.395569</td>\n",
       "      <td>-1.102570</td>\n",
       "      <td>0.017184</td>\n",
       "    </tr>\n",
       "    <tr>\n",
       "      <th>3</th>\n",
       "      <td>1.398549</td>\n",
       "      <td>-3.912898</td>\n",
       "      <td>-0.508295</td>\n",
       "      <td>1.841585</td>\n",
       "      <td>0.006868</td>\n",
       "      <td>0.667595</td>\n",
       "      <td>0.773494</td>\n",
       "      <td>1.421601</td>\n",
       "    </tr>\n",
       "    <tr>\n",
       "      <th>4</th>\n",
       "      <td>5.292673</td>\n",
       "      <td>-3.834006</td>\n",
       "      <td>2.246000</td>\n",
       "      <td>-1.254803</td>\n",
       "      <td>-0.165056</td>\n",
       "      <td>-0.860873</td>\n",
       "      <td>0.339764</td>\n",
       "      <td>-0.460034</td>\n",
       "    </tr>\n",
       "    <tr>\n",
       "      <th>...</th>\n",
       "      <td>...</td>\n",
       "      <td>...</td>\n",
       "      <td>...</td>\n",
       "      <td>...</td>\n",
       "      <td>...</td>\n",
       "      <td>...</td>\n",
       "      <td>...</td>\n",
       "      <td>...</td>\n",
       "    </tr>\n",
       "    <tr>\n",
       "      <th>9831</th>\n",
       "      <td>17.346882</td>\n",
       "      <td>-3.235172</td>\n",
       "      <td>2.565327</td>\n",
       "      <td>-3.253459</td>\n",
       "      <td>1.922798</td>\n",
       "      <td>0.270336</td>\n",
       "      <td>0.286889</td>\n",
       "      <td>0.792305</td>\n",
       "    </tr>\n",
       "    <tr>\n",
       "      <th>9832</th>\n",
       "      <td>3.427325</td>\n",
       "      <td>-0.548030</td>\n",
       "      <td>-0.974279</td>\n",
       "      <td>-0.678053</td>\n",
       "      <td>-2.167191</td>\n",
       "      <td>0.647185</td>\n",
       "      <td>-0.398127</td>\n",
       "      <td>0.292927</td>\n",
       "    </tr>\n",
       "    <tr>\n",
       "      <th>9833</th>\n",
       "      <td>3.598297</td>\n",
       "      <td>-2.545368</td>\n",
       "      <td>2.427634</td>\n",
       "      <td>-2.391761</td>\n",
       "      <td>-1.430634</td>\n",
       "      <td>-0.028163</td>\n",
       "      <td>-0.527120</td>\n",
       "      <td>-0.287208</td>\n",
       "    </tr>\n",
       "    <tr>\n",
       "      <th>9834</th>\n",
       "      <td>-0.591117</td>\n",
       "      <td>-0.047658</td>\n",
       "      <td>-1.134994</td>\n",
       "      <td>0.926807</td>\n",
       "      <td>-1.765313</td>\n",
       "      <td>0.018311</td>\n",
       "      <td>0.286387</td>\n",
       "      <td>-0.342450</td>\n",
       "    </tr>\n",
       "    <tr>\n",
       "      <th>9835</th>\n",
       "      <td>-7.504259</td>\n",
       "      <td>1.699453</td>\n",
       "      <td>1.607100</td>\n",
       "      <td>1.359053</td>\n",
       "      <td>-0.987300</td>\n",
       "      <td>0.752283</td>\n",
       "      <td>-0.103677</td>\n",
       "      <td>0.050059</td>\n",
       "    </tr>\n",
       "  </tbody>\n",
       "</table>\n",
       "<p>9836 rows × 8 columns</p>\n",
       "</div>"
      ],
      "text/plain": [
       "              0         1         2         3         4         5         6  \\\n",
       "0     -3.482497  2.432890  3.299718 -1.474394  0.261484  0.594351 -0.036051   \n",
       "1      4.928687  4.475373  2.895276 -0.730576 -0.156450 -0.543903 -0.612983   \n",
       "2      3.181558  1.389900  0.438418  1.025445 -1.315117 -0.395569 -1.102570   \n",
       "3      1.398549 -3.912898 -0.508295  1.841585  0.006868  0.667595  0.773494   \n",
       "4      5.292673 -3.834006  2.246000 -1.254803 -0.165056 -0.860873  0.339764   \n",
       "...         ...       ...       ...       ...       ...       ...       ...   \n",
       "9831  17.346882 -3.235172  2.565327 -3.253459  1.922798  0.270336  0.286889   \n",
       "9832   3.427325 -0.548030 -0.974279 -0.678053 -2.167191  0.647185 -0.398127   \n",
       "9833   3.598297 -2.545368  2.427634 -2.391761 -1.430634 -0.028163 -0.527120   \n",
       "9834  -0.591117 -0.047658 -1.134994  0.926807 -1.765313  0.018311  0.286387   \n",
       "9835  -7.504259  1.699453  1.607100  1.359053 -0.987300  0.752283 -0.103677   \n",
       "\n",
       "             7  \n",
       "0    -2.072727  \n",
       "1     0.537951  \n",
       "2     0.017184  \n",
       "3     1.421601  \n",
       "4    -0.460034  \n",
       "...        ...  \n",
       "9831  0.792305  \n",
       "9832  0.292927  \n",
       "9833 -0.287208  \n",
       "9834 -0.342450  \n",
       "9835  0.050059  \n",
       "\n",
       "[9836 rows x 8 columns]"
      ]
     },
     "execution_count": 34,
     "metadata": {},
     "output_type": "execute_result"
    }
   ],
   "source": [
    "pca = PCA(n_components=0.9) #to retain 90% of the original variance\n",
    "pcomp = pca.fit_transform(X_train_float_resampled)\n",
    "pca_df = pd.DataFrame(data=pcomp)\n",
    "pca_df #8 principal components"
   ]
  },
  {
   "cell_type": "code",
   "execution_count": 35,
   "id": "5baa34ad",
   "metadata": {},
   "outputs": [
    {
     "ename": "ValueError",
     "evalue": "Found input variables with inconsistent numbers of samples: [9836, 5869]",
     "output_type": "error",
     "traceback": [
      "\u001b[1;31m---------------------------------------------------------------------------\u001b[0m",
      "\u001b[1;31mValueError\u001b[0m                                Traceback (most recent call last)",
      "Input \u001b[1;32mIn [35]\u001b[0m, in \u001b[0;36m<cell line: 2>\u001b[1;34m()\u001b[0m\n\u001b[0;32m      1\u001b[0m \u001b[38;5;66;03m#using the new principal components as the new training columns\u001b[39;00m\n\u001b[1;32m----> 2\u001b[0m X_train_pca, X_test_pca, y_train_pca, y_test_pca \u001b[38;5;241m=\u001b[39m \u001b[43mtrain_test_split\u001b[49m\u001b[43m(\u001b[49m\u001b[43mpca_df\u001b[49m\u001b[43m,\u001b[49m\u001b[43m \u001b[49m\u001b[43my_train_float\u001b[49m\u001b[43m,\u001b[49m\u001b[43m \u001b[49m\u001b[43mtest_size\u001b[49m\u001b[38;5;241;43m=\u001b[39;49m\u001b[38;5;241;43m0.2\u001b[39;49m\u001b[43m,\u001b[49m\u001b[43m \u001b[49m\u001b[43mrandom_state\u001b[49m\u001b[38;5;241;43m=\u001b[39;49m\u001b[38;5;241;43m42\u001b[39;49m\u001b[43m)\u001b[49m\n\u001b[0;32m      4\u001b[0m model \u001b[38;5;241m=\u001b[39m LGBMClassifier(learning_rate\u001b[38;5;241m=\u001b[39m\u001b[38;5;241m0.1\u001b[39m, n_estimators\u001b[38;5;241m=\u001b[39m\u001b[38;5;241m600\u001b[39m, num_leaves\u001b[38;5;241m=\u001b[39m\u001b[38;5;241m40\u001b[39m) \u001b[38;5;66;03m#best classifier\u001b[39;00m\n\u001b[0;32m      5\u001b[0m model\u001b[38;5;241m.\u001b[39mfit(X_train_pca, y_train_pca)\n",
      "File \u001b[1;32m~\\anaconda3\\lib\\site-packages\\sklearn\\model_selection\\_split.py:2417\u001b[0m, in \u001b[0;36mtrain_test_split\u001b[1;34m(test_size, train_size, random_state, shuffle, stratify, *arrays)\u001b[0m\n\u001b[0;32m   2414\u001b[0m \u001b[38;5;28;01mif\u001b[39;00m n_arrays \u001b[38;5;241m==\u001b[39m \u001b[38;5;241m0\u001b[39m:\n\u001b[0;32m   2415\u001b[0m     \u001b[38;5;28;01mraise\u001b[39;00m \u001b[38;5;167;01mValueError\u001b[39;00m(\u001b[38;5;124m\"\u001b[39m\u001b[38;5;124mAt least one array required as input\u001b[39m\u001b[38;5;124m\"\u001b[39m)\n\u001b[1;32m-> 2417\u001b[0m arrays \u001b[38;5;241m=\u001b[39m \u001b[43mindexable\u001b[49m\u001b[43m(\u001b[49m\u001b[38;5;241;43m*\u001b[39;49m\u001b[43marrays\u001b[49m\u001b[43m)\u001b[49m\n\u001b[0;32m   2419\u001b[0m n_samples \u001b[38;5;241m=\u001b[39m _num_samples(arrays[\u001b[38;5;241m0\u001b[39m])\n\u001b[0;32m   2420\u001b[0m n_train, n_test \u001b[38;5;241m=\u001b[39m _validate_shuffle_split(\n\u001b[0;32m   2421\u001b[0m     n_samples, test_size, train_size, default_test_size\u001b[38;5;241m=\u001b[39m\u001b[38;5;241m0.25\u001b[39m\n\u001b[0;32m   2422\u001b[0m )\n",
      "File \u001b[1;32m~\\anaconda3\\lib\\site-packages\\sklearn\\utils\\validation.py:378\u001b[0m, in \u001b[0;36mindexable\u001b[1;34m(*iterables)\u001b[0m\n\u001b[0;32m    359\u001b[0m \u001b[38;5;124;03m\"\"\"Make arrays indexable for cross-validation.\u001b[39;00m\n\u001b[0;32m    360\u001b[0m \n\u001b[0;32m    361\u001b[0m \u001b[38;5;124;03mChecks consistent length, passes through None, and ensures that everything\u001b[39;00m\n\u001b[1;32m   (...)\u001b[0m\n\u001b[0;32m    374\u001b[0m \u001b[38;5;124;03m    sparse matrix, or dataframe) or `None`.\u001b[39;00m\n\u001b[0;32m    375\u001b[0m \u001b[38;5;124;03m\"\"\"\u001b[39;00m\n\u001b[0;32m    377\u001b[0m result \u001b[38;5;241m=\u001b[39m [_make_indexable(X) \u001b[38;5;28;01mfor\u001b[39;00m X \u001b[38;5;129;01min\u001b[39;00m iterables]\n\u001b[1;32m--> 378\u001b[0m \u001b[43mcheck_consistent_length\u001b[49m\u001b[43m(\u001b[49m\u001b[38;5;241;43m*\u001b[39;49m\u001b[43mresult\u001b[49m\u001b[43m)\u001b[49m\n\u001b[0;32m    379\u001b[0m \u001b[38;5;28;01mreturn\u001b[39;00m result\n",
      "File \u001b[1;32m~\\anaconda3\\lib\\site-packages\\sklearn\\utils\\validation.py:332\u001b[0m, in \u001b[0;36mcheck_consistent_length\u001b[1;34m(*arrays)\u001b[0m\n\u001b[0;32m    330\u001b[0m uniques \u001b[38;5;241m=\u001b[39m np\u001b[38;5;241m.\u001b[39munique(lengths)\n\u001b[0;32m    331\u001b[0m \u001b[38;5;28;01mif\u001b[39;00m \u001b[38;5;28mlen\u001b[39m(uniques) \u001b[38;5;241m>\u001b[39m \u001b[38;5;241m1\u001b[39m:\n\u001b[1;32m--> 332\u001b[0m     \u001b[38;5;28;01mraise\u001b[39;00m \u001b[38;5;167;01mValueError\u001b[39;00m(\n\u001b[0;32m    333\u001b[0m         \u001b[38;5;124m\"\u001b[39m\u001b[38;5;124mFound input variables with inconsistent numbers of samples: \u001b[39m\u001b[38;5;132;01m%r\u001b[39;00m\u001b[38;5;124m\"\u001b[39m\n\u001b[0;32m    334\u001b[0m         \u001b[38;5;241m%\u001b[39m [\u001b[38;5;28mint\u001b[39m(l) \u001b[38;5;28;01mfor\u001b[39;00m l \u001b[38;5;129;01min\u001b[39;00m lengths]\n\u001b[0;32m    335\u001b[0m     )\n",
      "\u001b[1;31mValueError\u001b[0m: Found input variables with inconsistent numbers of samples: [9836, 5869]"
     ]
    }
   ],
   "source": [
    "#using the new principal components as the new training columns\n",
    "X_train_pca, X_test_pca, y_train_pca, y_test_pca = train_test_split(pca_df, y_train_float, test_size=0.2, random_state=42)\n",
    "\n",
    "model = LGBMClassifier(learning_rate=0.1, n_estimators=600, num_leaves=40) #best classifier\n",
    "model.fit(X_train_pca, y_train_pca)\n",
    "\n",
    "preds = model.predict(X_test_pca)\n",
    "classification_evaluation(y_test_pca, preds)"
   ]
  },
  {
   "cell_type": "code",
   "execution_count": null,
   "id": "25d47cdb",
   "metadata": {},
   "outputs": [],
   "source": []
  }
 ],
 "metadata": {
  "kernelspec": {
   "display_name": "Python 3 (ipykernel)",
   "language": "python",
   "name": "python3"
  },
  "language_info": {
   "codemirror_mode": {
    "name": "ipython",
    "version": 3
   },
   "file_extension": ".py",
   "mimetype": "text/x-python",
   "name": "python",
   "nbconvert_exporter": "python",
   "pygments_lexer": "ipython3",
   "version": "3.9.12"
  }
 },
 "nbformat": 4,
 "nbformat_minor": 5
}
