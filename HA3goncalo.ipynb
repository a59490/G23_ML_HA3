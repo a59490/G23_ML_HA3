{
 "cells": [
  {
   "cell_type": "code",
   "execution_count": 26,
   "id": "696c386a",
   "metadata": {},
   "outputs": [],
   "source": [
    "from sklearn.model_selection import train_test_split\n",
    "import pandas as pd\n",
    "import numpy as np\n",
    "import matplotlib.pyplot as plt\n",
    "import seaborn as sns\n",
    "import pickle\n",
    "from sklearn.model_selection import GridSearchCV\n",
    "import warnings\n",
    "warnings.filterwarnings('ignore')\n",
    "from sklearn.model_selection import KFold\n",
    "\n",
    "# import smote\n",
    "from imblearn.over_sampling import SMOTE\n",
    "\n",
    "# Regression models\n",
    "from sklearn.linear_model import LinearRegression\n",
    "from sklearn.linear_model import Ridge\n",
    "from xgboost import XGBRegressor\n",
    "from sklearn.svm import SVR\n",
    "from sklearn.tree import DecisionTreeRegressor\n",
    "from sklearn.linear_model import LogisticRegression\n",
    "from sklearn.ensemble import RandomForestRegressor\n",
    "from sklearn.ensemble import BaggingRegressor\n",
    "from lightgbm import LGBMRegressor\n",
    "\n",
    "# Classification models\n",
    "from sklearn.linear_model import LogisticRegression\n",
    "from sklearn.svm import SVC\n",
    "from sklearn.tree import DecisionTreeClassifier\n",
    "from sklearn.ensemble import RandomForestClassifier\n",
    "from xgboost import XGBClassifier\n",
    "from sklearn.neural_network import MLPClassifier\n",
    "from lightgbm import LGBMClassifier\n",
    "\n",
    "# Scaling\n",
    "from sklearn.preprocessing import StandardScaler, MinMaxScaler, RobustScaler, Normalizer, PowerTransformer\n",
    "\n",
    "# Zero regression\n",
    "from sklearn.base import BaseEstimator, RegressorMixin, clone, is_classifier, is_regressor\n",
    "from sklearn.exceptions import NotFittedError\n",
    "from sklearn.utils.validation import check_array, check_is_fitted, check_X_y\n",
    "\n",
    "# Metrics for regression\n",
    "from sklearn.metrics import explained_variance_score, mean_squared_error, r2_score, max_error, mean_absolute_error\n",
    "from scipy.stats import pearsonr\n",
    "from sklearn.model_selection import cross_val_score\n",
    "\n",
    "# Metrics for classification\n",
    "from sklearn.metrics import accuracy_score, f1_score, precision_score, recall_score, roc_auc_score, confusion_matrix, classification_report,matthews_corrcoef\n",
    "\n",
    "# Scalers\n",
    "from sklearn.preprocessing import StandardScaler, MinMaxScaler, RobustScaler, Normalizer, PowerTransformer, MaxAbsScaler\n",
    "\n",
    "#  balenced regression\n",
    "from imblearn.ensemble import BalancedBaggingClassifier"
   ]
  },
  {
   "cell_type": "code",
   "execution_count": 5,
   "id": "85a78ad6",
   "metadata": {},
   "outputs": [],
   "source": [
    "class ZeroInflatedRegressor(BaseEstimator, RegressorMixin):\n",
    "    \"\"\"A meta regressor for zero-inflated datasets, i.e. the targets contain a lot of zeroes.\n",
    "\n",
    "    `ZeroInflatedRegressor` consists of a classifier and a regressor.\n",
    "\n",
    "        - The classifier's task is to find if the target is zero or not.\n",
    "        - The regressor's task is to output a (usually positive) prediction whenever the classifier indicates that the\n",
    "        there should be a non-zero prediction.\n",
    "\n",
    "    The regressor is only trained on examples where the target is non-zero, which makes it easier for it to focus.\n",
    "\n",
    "    At prediction time, the classifier is first asked if the output should be zero. If yes, output zero.\n",
    "    Otherwise, ask the regressor for its prediction and output it.\n",
    "\n",
    "    Parameters\n",
    "    ----------\n",
    "    classifier : scikit-learn compatible classifier\n",
    "        A classifier that answers the question \"Should the output be zero?\".\n",
    "    regressor : scikit-learn compatible regressor\n",
    "        A regressor for predicting the target. Its prediction is only used if `classifier` says that the output is\n",
    "        non-zero.\n",
    "\n",
    "    Attributes\n",
    "    ----------\n",
    "    classifier_ : scikit-learn compatible classifier\n",
    "        The fitted classifier.\n",
    "    regressor_ : scikit-learn compatible regressor\n",
    "        The fitted regressor.\"\"\"\n",
    "\n",
    "    def __init__(self, classifier, regressor) -> None:\n",
    "        self.classifier = classifier\n",
    "        self.regressor = regressor\n",
    "\n",
    "    def fit(self, X, y, sample_weight=None):\n",
    "        \"\"\"Fit the underlying classifier and regressor using `X` and `y` as training data. The regressor is only trained\n",
    "        on examples where the target is non-zero.\n",
    "\n",
    "        Parameters\n",
    "        ----------\n",
    "        X : array-like of shape (n_samples, n_features)\n",
    "            The training data.\n",
    "        y : array-like of shape (n_samples,)\n",
    "            The target values.\n",
    "        sample_weight : array-like of shape (n_samples,), default=None\n",
    "            Individual weights for each sample.\n",
    "\n",
    "        Returns\n",
    "        -------\n",
    "        self : ZeroInflatedRegressor\n",
    "            The fitted estimator.\n",
    "\n",
    "        Raises\n",
    "        ------\n",
    "        ValueError\n",
    "            If `classifier` is not a classifier or `regressor` is not a regressor.\n",
    "        \"\"\"\n",
    "        X, y = check_X_y(X, y)\n",
    "        self._check_n_features(X, reset=True)\n",
    "        if not is_classifier(self.classifier):\n",
    "            raise ValueError(\n",
    "                f\"`classifier` has to be a classifier. Received instance of {type(self.classifier)} instead.\"\n",
    "            )\n",
    "        if not is_regressor(self.regressor):\n",
    "            raise ValueError(f\"`regressor` has to be a regressor. Received instance of {type(self.regressor)} instead.\")\n",
    "\n",
    "        try:\n",
    "            check_is_fitted(self.classifier)\n",
    "            self.classifier_ = self.classifier\n",
    "        except NotFittedError:\n",
    "            self.classifier_ = clone(self.classifier)\n",
    "\n",
    "            if \"sample_weight\" in signature(self.classifier_.fit).parameters:\n",
    "                self.classifier_.fit(X, y != 0, sample_weight=sample_weight)\n",
    "            else:\n",
    "                logging.warning(\"Classifier ignores sample_weight.\")\n",
    "                self.classifier_.fit(X, y != 0)\n",
    "\n",
    "        non_zero_indices = np.where(self.classifier_.predict(X) == 1)[0]\n",
    "\n",
    "        if non_zero_indices.size > 0:\n",
    "            try:\n",
    "                check_is_fitted(self.regressor)\n",
    "                self.regressor_ = self.regressor\n",
    "            except NotFittedError:\n",
    "                self.regressor_ = clone(self.regressor)\n",
    "\n",
    "                if \"sample_weight\" in signature(self.regressor_.fit).parameters:\n",
    "                    self.regressor_.fit(\n",
    "                        X[non_zero_indices],\n",
    "                        y[non_zero_indices],\n",
    "                        sample_weight=sample_weight[non_zero_indices] if sample_weight is not None else None,\n",
    "                    )\n",
    "                else:\n",
    "                    logging.warning(\"Regressor ignores sample_weight.\")\n",
    "                    self.regressor_.fit(\n",
    "                        X[non_zero_indices],\n",
    "                        y[non_zero_indices],\n",
    "                    )\n",
    "        else:\n",
    "            raise ValueError(\n",
    "                \"\"\"The predicted training labels are all zero, making the regressor obsolete. Change the classifier\n",
    "                or use a plain regressor instead.\"\"\"\n",
    "            )\n",
    "\n",
    "        return self\n",
    "\n",
    "    def predict(self, X):\n",
    "        \"\"\"Predict target values for `X` using fitted estimator by first asking the classifier if the output should be\n",
    "        zero. If yes, output zero. Otherwise, ask the regressor for its prediction and output it.\n",
    "\n",
    "        Parameters\n",
    "        ----------\n",
    "        X : array-like of shape (n_samples, n_features)\n",
    "            The data to predict.\n",
    "\n",
    "        Returns\n",
    "        -------\n",
    "        array-like of shape (n_samples,)\n",
    "            The predicted values.\n",
    "        \"\"\"\n",
    "        check_is_fitted(self)\n",
    "        X = check_array(X)\n",
    "        self._check_n_features(X, reset=False)\n",
    "\n",
    "        output = np.zeros(len(X))\n",
    "        non_zero_indices = np.where(self.classifier_.predict(X))[0]\n",
    "\n",
    "        if non_zero_indices.size > 0:\n",
    "            output[non_zero_indices] = self.regressor_.predict(X[non_zero_indices])\n",
    "\n",
    "        return output"
   ]
  },
  {
   "cell_type": "code",
   "execution_count": 21,
   "id": "bb211ad1",
   "metadata": {},
   "outputs": [],
   "source": [
    "def runner(scaler, model, X_train, y_train, X_test):\n",
    "    scaler.fit(X_train)\n",
    "    Xt_train = scaler.transform(X_train)\n",
    "    Xt_test = scaler.transform(X_test)\n",
    "\n",
    "    model.fit(Xt_train, y_train)\n",
    "    preds = model.predict(Xt_test)\n",
    "    return preds\n",
    "\n",
    "def sc_tester(model, X_train, y_train, X_test, y_test):      \n",
    "    scalers = [StandardScaler(), MinMaxScaler(), PowerTransformer(), RobustScaler(), MaxAbsScaler()]\n",
    "    results = []\n",
    "\n",
    "    for scaler in scalers:\n",
    "        preds = runner(scaler, model, X_train, y_train, X_test)\n",
    "\n",
    "        f1 = f1_score(y_test, preds, average=\"weighted\")\n",
    "        accuracy = accuracy_score(y_test, preds)\n",
    "        precision = precision_score(y_test, preds, average=\"weighted\")\n",
    "        recall = recall_score(y_test, preds, average=\"weighted\")\n",
    "        mcc = matthews_corrcoef(y_test, preds)\n",
    "\n",
    "        result_dict = {\n",
    "            'Scaler': str(scaler),\n",
    "            'Model': str(model),\n",
    "            'F1 Score': f1,\n",
    "            'Accuracy': accuracy,\n",
    "            'Precision': precision,\n",
    "            'Recall': recall,\n",
    "            'MCC': mcc\n",
    "        }\n",
    "\n",
    "        results.append(result_dict)\n",
    "\n",
    "    results_df = pd.DataFrame(results)\n",
    "    results_df = results_df.sort_values(by=['MCC'], ascending=False)\n",
    "    return results_df"
   ]
  },
  {
   "cell_type": "markdown",
   "id": "fd8c6006",
   "metadata": {},
   "source": [
    "## Data preprocessing"
   ]
  },
  {
   "cell_type": "code",
   "execution_count": 6,
   "id": "098c9c19",
   "metadata": {},
   "outputs": [],
   "source": [
    "X_train, X_ivs, y_train, col_names = pickle.load(open(\"drd2_data.pickle\", \"rb\"))"
   ]
  },
  {
   "cell_type": "code",
   "execution_count": 7,
   "id": "8cbc199e",
   "metadata": {},
   "outputs": [],
   "source": [
    "X_train = pd.DataFrame(X_train, columns=col_names)"
   ]
  },
  {
   "cell_type": "code",
   "execution_count": 8,
   "id": "1ecb4fab",
   "metadata": {},
   "outputs": [],
   "source": [
    "y_train = pd.DataFrame(y_train, columns=['target'])"
   ]
  },
  {
   "cell_type": "code",
   "execution_count": 10,
   "id": "5523d707",
   "metadata": {},
   "outputs": [
    {
     "data": {
      "image/png": "[encoded data removed]",
      "text/plain": [
       "<Figure size 720x432 with 1 Axes>"
      ]
     },
     "metadata": {
      "needs_background": "light"
     },
     "output_type": "display_data"
    }
   ],
   "source": [
    "plt.figure(figsize=(10, 6))\n",
    "sns.histplot(y_train.values.flatten(), bins=30, kde=False, color='blue')\n",
    "plt.title('Distribution of Target Variable')\n",
    "plt.xlabel('Target Variable')\n",
    "plt.ylabel('Frequency')\n",
    "plt.show()"
   ]
  },
  {
   "cell_type": "code",
   "execution_count": 11,
   "id": "ab16745b",
   "metadata": {},
   "outputs": [
    {
     "data": {
      "text/plain": [
       "target  \n",
       "0.000000    1207\n",
       "1.000000     168\n",
       "0.349999      56\n",
       "0.374999      51\n",
       "0.324999      47\n",
       "            ... \n",
       "0.282986       1\n",
       "0.282692       1\n",
       "0.282500       1\n",
       "0.282399       1\n",
       "0.363435       1\n",
       "Length: 2476, dtype: int64"
      ]
     },
     "execution_count": 11,
     "metadata": {},
     "output_type": "execute_result"
    }
   ],
   "source": [
    "y_train.value_counts()"
   ]
  },
  {
   "cell_type": "markdown",
   "id": "3d208f82",
   "metadata": {},
   "source": [
    "As seen in the histogram and through value counts, y = 0.0 occurs much more frequently than other values - the target variable is imbalanced, which may pose a problem later on if not dealt with wisely."
   ]
  },
  {
   "cell_type": "code",
   "execution_count": 12,
   "id": "175a95cf",
   "metadata": {},
   "outputs": [
    {
     "data": {
      "text/plain": [
       "Index([], dtype='object')"
      ]
     },
     "execution_count": 12,
     "metadata": {},
     "output_type": "execute_result"
    }
   ],
   "source": [
    "X_train.columns[X_train.isnull().any()]"
   ]
  },
  {
   "cell_type": "markdown",
   "id": "b798e86f",
   "metadata": {},
   "source": [
    "No columns with missing values."
   ]
  },
  {
   "cell_type": "code",
   "execution_count": 12,
   "id": "d84f7325",
   "metadata": {},
   "outputs": [
    {
     "name": "stdout",
     "output_type": "stream",
     "text": [
      "<class 'pandas.core.frame.DataFrame'>\n",
      "RangeIndex: 7337 entries, 0 to 7336\n",
      "Columns: 2132 entries, D00 to FP2088\n",
      "dtypes: float64(2132)\n",
      "memory usage: 119.3 MB\n"
     ]
    }
   ],
   "source": [
    "X_train.info()"
   ]
  },
  {
   "cell_type": "markdown",
   "id": "90c6f288",
   "metadata": {},
   "source": [
    "Columns consist of type 'float64' only. Let's further inspect this."
   ]
  },
  {
   "cell_type": "code",
   "execution_count": 13,
   "id": "b51cfb10",
   "metadata": {},
   "outputs": [
    {
     "data": {
      "image/png": "[encoded data removed]",
      "text/plain": [
       "<Figure size 864x360 with 1 Axes>"
      ]
     },
     "metadata": {
      "needs_background": "light"
     },
     "output_type": "display_data"
    }
   ],
   "source": [
    "plt.figure(figsize=(12, 5))\n",
    "plt.plot(X_train.min(axis=0), 'o', label=\"min\") \n",
    "plt.plot(X_train.max(axis=0), 'o', label=\"max\")\n",
    "plt.title('Min and Max Values for Each Column')\n",
    "plt.legend(loc=\"best\")\n",
    "plt.xlabel(\"Column Index\")\n",
    "plt.ylabel(\"Value\")\n",
    "plt.show()"
   ]
  },
  {
   "cell_type": "markdown",
   "id": "a8b8c591",
   "metadata": {},
   "source": [
    "While some columns are indeed floats, the majority seem to be binary and not floats as originally encoded."
   ]
  },
  {
   "cell_type": "code",
   "execution_count": 15,
   "id": "89b4c76a",
   "metadata": {},
   "outputs": [
    {
     "data": {
      "text/plain": [
       "(7337, 2090)"
      ]
     },
     "execution_count": 15,
     "metadata": {},
     "output_type": "execute_result"
    }
   ],
   "source": [
    "binary_filter = X_train.apply(lambda col: set(col) == {0, 1}) #columns containing only 0s and 1s\n",
    "binary_columns = X_train.columns[binary_filter].tolist()\n",
    "X_train[binary_columns] = X_train[binary_columns].astype('category')\n",
    "\n",
    "binary_df = X_train[binary_columns]\n",
    "binary_df.shape"
   ]
  },
  {
   "cell_type": "markdown",
   "id": "ae11fb9b",
   "metadata": {},
   "source": [
    "Training set consisting of binary columns only, all of type 'category'. 2090 samples."
   ]
  },
  {
   "cell_type": "code",
   "execution_count": 16,
   "id": "63610f41",
   "metadata": {},
   "outputs": [
    {
     "data": {
      "text/plain": [
       "(7337, 42)"
      ]
     },
     "execution_count": 16,
     "metadata": {},
     "output_type": "execute_result"
    }
   ],
   "source": [
    "float_filter = ~X_train.columns.isin(binary_columns) #remaining columns (not in binary_columns)\n",
    "float_columns = X_train.columns[float_filter].tolist()\n",
    "\n",
    "float_df = X_train[float_columns]\n",
    "float_df.shape"
   ]
  },
  {
   "cell_type": "markdown",
   "id": "773fadf7",
   "metadata": {},
   "source": [
    "Training set consisting of all remaining columns of type 'float64'. 42 samples."
   ]
  },
  {
   "cell_type": "code",
   "execution_count": 17,
   "id": "90df83c9",
   "metadata": {},
   "outputs": [
    {
     "data": {
      "image/png": "[encoded data removed]",
      "text/plain": [
       "<Figure size 2000x500 with 1 Axes>"
      ]
     },
     "metadata": {},
     "output_type": "display_data"
    }
   ],
   "source": [
    "plt.figure(figsize=(20, 5))\n",
    "plt.plot(float_df.min(axis=0), 'o', label=\"min\") \n",
    "plt.plot(float_df.max(axis=0), 'o', label=\"max\")\n",
    "plt.legend(loc=\"best\")\n",
    "plt.grid()\n",
    "plt.title(\"Min and Max Values for Each Column\")\n",
    "plt.xlabel(\"Column Index\")\n",
    "plt.ylabel(\"Value\")\n",
    "plt.show()"
   ]
  },
  {
   "cell_type": "markdown",
   "id": "fb068e65",
   "metadata": {},
   "source": [
    "As there seems to be an overlap of min and max values for some columns, let's double check everything is correct with these columns."
   ]
  },
  {
   "cell_type": "code",
   "execution_count": 18,
   "id": "2516342c",
   "metadata": {},
   "outputs": [
    {
     "data": {
      "text/html": [
       "<div>\n",
       "<style scoped>\n",
       "    .dataframe tbody tr th:only-of-type {\n",
       "        vertical-align: middle;\n",
       "    }\n",
       "\n",
       "    .dataframe tbody tr th {\n",
       "        vertical-align: top;\n",
       "    }\n",
       "\n",
       "    .dataframe thead th {\n",
       "        text-align: right;\n",
       "    }\n",
       "</style>\n",
       "<table border=\"1\" class=\"dataframe\">\n",
       "  <thead>\n",
       "    <tr style=\"text-align: right;\">\n",
       "      <th></th>\n",
       "      <th>column</th>\n",
       "      <th>min</th>\n",
       "      <th>max</th>\n",
       "    </tr>\n",
       "  </thead>\n",
       "  <tbody>\n",
       "    <tr>\n",
       "      <th>0</th>\n",
       "      <td>D00</td>\n",
       "      <td>135.068414</td>\n",
       "      <td>3768.848446</td>\n",
       "    </tr>\n",
       "    <tr>\n",
       "      <th>1</th>\n",
       "      <td>D01</td>\n",
       "      <td>135.166000</td>\n",
       "      <td>3771.262000</td>\n",
       "    </tr>\n",
       "    <tr>\n",
       "      <th>2</th>\n",
       "      <td>D02</td>\n",
       "      <td>1.000000</td>\n",
       "      <td>92.000000</td>\n",
       "    </tr>\n",
       "    <tr>\n",
       "      <th>3</th>\n",
       "      <td>D03</td>\n",
       "      <td>0.000000</td>\n",
       "      <td>47.000000</td>\n",
       "    </tr>\n",
       "    <tr>\n",
       "      <th>4</th>\n",
       "      <td>D04</td>\n",
       "      <td>0.000000</td>\n",
       "      <td>137.000000</td>\n",
       "    </tr>\n",
       "    <tr>\n",
       "      <th>5</th>\n",
       "      <td>D05</td>\n",
       "      <td>0.000000</td>\n",
       "      <td>42.000000</td>\n",
       "    </tr>\n",
       "    <tr>\n",
       "      <th>6</th>\n",
       "      <td>D06</td>\n",
       "      <td>0.000000</td>\n",
       "      <td>58.000000</td>\n",
       "    </tr>\n",
       "    <tr>\n",
       "      <th>7</th>\n",
       "      <td>D07</td>\n",
       "      <td>10.000000</td>\n",
       "      <td>266.000000</td>\n",
       "    </tr>\n",
       "    <tr>\n",
       "      <th>8</th>\n",
       "      <td>D08</td>\n",
       "      <td>19.000000</td>\n",
       "      <td>527.000000</td>\n",
       "    </tr>\n",
       "    <tr>\n",
       "      <th>9</th>\n",
       "      <td>D09</td>\n",
       "      <td>1.000000</td>\n",
       "      <td>93.000000</td>\n",
       "    </tr>\n",
       "    <tr>\n",
       "      <th>10</th>\n",
       "      <td>D10</td>\n",
       "      <td>0.000000</td>\n",
       "      <td>30.000000</td>\n",
       "    </tr>\n",
       "    <tr>\n",
       "      <th>11</th>\n",
       "      <td>D11</td>\n",
       "      <td>0.000000</td>\n",
       "      <td>1.000000</td>\n",
       "    </tr>\n",
       "    <tr>\n",
       "      <th>12</th>\n",
       "      <td>D12</td>\n",
       "      <td>0.000000</td>\n",
       "      <td>14.000000</td>\n",
       "    </tr>\n",
       "    <tr>\n",
       "      <th>13</th>\n",
       "      <td>D13</td>\n",
       "      <td>0.000000</td>\n",
       "      <td>9.000000</td>\n",
       "    </tr>\n",
       "    <tr>\n",
       "      <th>14</th>\n",
       "      <td>D14</td>\n",
       "      <td>0.000000</td>\n",
       "      <td>11.000000</td>\n",
       "    </tr>\n",
       "    <tr>\n",
       "      <th>15</th>\n",
       "      <td>D15</td>\n",
       "      <td>0.000000</td>\n",
       "      <td>11.000000</td>\n",
       "    </tr>\n",
       "    <tr>\n",
       "      <th>16</th>\n",
       "      <td>D16</td>\n",
       "      <td>0.000000</td>\n",
       "      <td>9.000000</td>\n",
       "    </tr>\n",
       "    <tr>\n",
       "      <th>17</th>\n",
       "      <td>D17</td>\n",
       "      <td>0.000000</td>\n",
       "      <td>4.000000</td>\n",
       "    </tr>\n",
       "    <tr>\n",
       "      <th>18</th>\n",
       "      <td>D18</td>\n",
       "      <td>0.000000</td>\n",
       "      <td>7.000000</td>\n",
       "    </tr>\n",
       "    <tr>\n",
       "      <th>19</th>\n",
       "      <td>D19</td>\n",
       "      <td>0.000000</td>\n",
       "      <td>7.000000</td>\n",
       "    </tr>\n",
       "    <tr>\n",
       "      <th>20</th>\n",
       "      <td>D21</td>\n",
       "      <td>0.000000</td>\n",
       "      <td>8.000000</td>\n",
       "    </tr>\n",
       "    <tr>\n",
       "      <th>21</th>\n",
       "      <td>D22</td>\n",
       "      <td>0.000000</td>\n",
       "      <td>29.000000</td>\n",
       "    </tr>\n",
       "    <tr>\n",
       "      <th>22</th>\n",
       "      <td>D23</td>\n",
       "      <td>0.000000</td>\n",
       "      <td>10.000000</td>\n",
       "    </tr>\n",
       "    <tr>\n",
       "      <th>23</th>\n",
       "      <td>D24</td>\n",
       "      <td>59.499552</td>\n",
       "      <td>1542.223628</td>\n",
       "    </tr>\n",
       "    <tr>\n",
       "      <th>24</th>\n",
       "      <td>D25</td>\n",
       "      <td>3.240000</td>\n",
       "      <td>1365.490000</td>\n",
       "    </tr>\n",
       "    <tr>\n",
       "      <th>25</th>\n",
       "      <td>D26</td>\n",
       "      <td>-10.523160</td>\n",
       "      <td>16.768600</td>\n",
       "    </tr>\n",
       "    <tr>\n",
       "      <th>26</th>\n",
       "      <td>D27</td>\n",
       "      <td>40.300500</td>\n",
       "      <td>957.020500</td>\n",
       "    </tr>\n",
       "    <tr>\n",
       "      <th>27</th>\n",
       "      <td>D28</td>\n",
       "      <td>5.593478</td>\n",
       "      <td>150.889493</td>\n",
       "    </tr>\n",
       "    <tr>\n",
       "      <th>28</th>\n",
       "      <td>D29</td>\n",
       "      <td>3.306776</td>\n",
       "      <td>89.019955</td>\n",
       "    </tr>\n",
       "    <tr>\n",
       "      <th>29</th>\n",
       "      <td>D30</td>\n",
       "      <td>1.343578</td>\n",
       "      <td>42.983137</td>\n",
       "    </tr>\n",
       "    <tr>\n",
       "      <th>30</th>\n",
       "      <td>D31</td>\n",
       "      <td>1.343578</td>\n",
       "      <td>42.983137</td>\n",
       "    </tr>\n",
       "    <tr>\n",
       "      <th>31</th>\n",
       "      <td>D32</td>\n",
       "      <td>0.829281</td>\n",
       "      <td>28.951310</td>\n",
       "    </tr>\n",
       "    <tr>\n",
       "      <th>32</th>\n",
       "      <td>D33</td>\n",
       "      <td>5.593478</td>\n",
       "      <td>150.072997</td>\n",
       "    </tr>\n",
       "    <tr>\n",
       "      <th>33</th>\n",
       "      <td>D34</td>\n",
       "      <td>3.306776</td>\n",
       "      <td>87.971200</td>\n",
       "    </tr>\n",
       "    <tr>\n",
       "      <th>34</th>\n",
       "      <td>D35</td>\n",
       "      <td>1.073575</td>\n",
       "      <td>41.688090</td>\n",
       "    </tr>\n",
       "    <tr>\n",
       "      <th>35</th>\n",
       "      <td>D36</td>\n",
       "      <td>1.073575</td>\n",
       "      <td>41.688090</td>\n",
       "    </tr>\n",
       "    <tr>\n",
       "      <th>36</th>\n",
       "      <td>D37</td>\n",
       "      <td>0.534404</td>\n",
       "      <td>27.825543</td>\n",
       "    </tr>\n",
       "    <tr>\n",
       "      <th>37</th>\n",
       "      <td>D38</td>\n",
       "      <td>-25.750000</td>\n",
       "      <td>0.480000</td>\n",
       "    </tr>\n",
       "    <tr>\n",
       "      <th>38</th>\n",
       "      <td>D39</td>\n",
       "      <td>5.593184</td>\n",
       "      <td>224.520935</td>\n",
       "    </tr>\n",
       "    <tr>\n",
       "      <th>39</th>\n",
       "      <td>D40</td>\n",
       "      <td>1.904405</td>\n",
       "      <td>127.943354</td>\n",
       "    </tr>\n",
       "    <tr>\n",
       "      <th>40</th>\n",
       "      <td>D41</td>\n",
       "      <td>0.513626</td>\n",
       "      <td>93.203717</td>\n",
       "    </tr>\n",
       "    <tr>\n",
       "      <th>41</th>\n",
       "      <td>D42</td>\n",
       "      <td>0.946215</td>\n",
       "      <td>107.992337</td>\n",
       "    </tr>\n",
       "  </tbody>\n",
       "</table>\n",
       "</div>"
      ],
      "text/plain": [
       "   column         min          max\n",
       "0     D00  135.068414  3768.848446\n",
       "1     D01  135.166000  3771.262000\n",
       "2     D02    1.000000    92.000000\n",
       "3     D03    0.000000    47.000000\n",
       "4     D04    0.000000   137.000000\n",
       "5     D05    0.000000    42.000000\n",
       "6     D06    0.000000    58.000000\n",
       "7     D07   10.000000   266.000000\n",
       "8     D08   19.000000   527.000000\n",
       "9     D09    1.000000    93.000000\n",
       "10    D10    0.000000    30.000000\n",
       "11    D11    0.000000     1.000000\n",
       "12    D12    0.000000    14.000000\n",
       "13    D13    0.000000     9.000000\n",
       "14    D14    0.000000    11.000000\n",
       "15    D15    0.000000    11.000000\n",
       "16    D16    0.000000     9.000000\n",
       "17    D17    0.000000     4.000000\n",
       "18    D18    0.000000     7.000000\n",
       "19    D19    0.000000     7.000000\n",
       "20    D21    0.000000     8.000000\n",
       "21    D22    0.000000    29.000000\n",
       "22    D23    0.000000    10.000000\n",
       "23    D24   59.499552  1542.223628\n",
       "24    D25    3.240000  1365.490000\n",
       "25    D26  -10.523160    16.768600\n",
       "26    D27   40.300500   957.020500\n",
       "27    D28    5.593478   150.889493\n",
       "28    D29    3.306776    89.019955\n",
       "29    D30    1.343578    42.983137\n",
       "30    D31    1.343578    42.983137\n",
       "31    D32    0.829281    28.951310\n",
       "32    D33    5.593478   150.072997\n",
       "33    D34    3.306776    87.971200\n",
       "34    D35    1.073575    41.688090\n",
       "35    D36    1.073575    41.688090\n",
       "36    D37    0.534404    27.825543\n",
       "37    D38  -25.750000     0.480000\n",
       "38    D39    5.593184   224.520935\n",
       "39    D40    1.904405   127.943354\n",
       "40    D41    0.513626    93.203717\n",
       "41    D42    0.946215   107.992337"
      ]
     },
     "execution_count": 18,
     "metadata": {},
     "output_type": "execute_result"
    }
   ],
   "source": [
    "results = []\n",
    "for col in float_df:\n",
    "    min_val = float_df[col].min()\n",
    "    max_val = float_df[col].max()\n",
    "    results.append((col, min_val, max_val))\n",
    "\n",
    "check = pd.DataFrame(results, columns=['column', 'min', 'max'])\n",
    "check"
   ]
  },
  {
   "cell_type": "code",
   "execution_count": 19,
   "id": "d77d441e",
   "metadata": {},
   "outputs": [
    {
     "name": "stdout",
     "output_type": "stream",
     "text": [
      "<class 'pandas.core.frame.DataFrame'>\n",
      "RangeIndex: 7337 entries, 0 to 7336\n",
      "Columns: 2132 entries, D00 to FP2088\n",
      "dtypes: category(2090), float64(42)\n",
      "memory usage: 17.2 MB\n"
     ]
    }
   ],
   "source": [
    "X_train.info()"
   ]
  },
  {
   "cell_type": "markdown",
   "id": "818ad00e",
   "metadata": {},
   "source": [
    "2090 columns of type 'category' and 42 of type 'float64', as intended."
   ]
  },
  {
   "cell_type": "markdown",
   "id": "f5ff6097",
   "metadata": {},
   "source": [
    "# Methodology "
   ]
  },
  {
   "cell_type": "markdown",
   "id": "4b54eb27",
   "metadata": {},
   "source": [
    "Due to the way the daset is structured, we will be using a two-step approach to the problem. First, we will use the 2090 columns of type 'category' to train a model, and then use the 42 columns of type 'float64' to train a second model. Finally, we will combine the predictions of both models to obtain the final result.\n",
    "\n",
    "- The categorical columns will be named \"Binary\"\n",
    "\n",
    "- The float columns will be named \"Float\"\n"
   ]
  },
  {
   "cell_type": "markdown",
   "id": "e5fb47b6",
   "metadata": {},
   "source": [
    "Given the nature of this dataset with a large number of zeros on the target variable, we will devide the dataset into two parts, classification and regression. The classification part will be used to predict the probability of the target variable being 0 or diferent than 0. The regression part will be used to predict the value of the target variable when it is different than 0. So we will a:\n",
    "- Classification model\n",
    "- Regression model."
   ]
  },
  {
   "cell_type": "markdown",
   "id": "cc9c92f4",
   "metadata": {},
   "source": [
    "# Classification models"
   ]
  },
  {
   "cell_type": "code",
   "execution_count": 14,
   "id": "1783e260",
   "metadata": {},
   "outputs": [],
   "source": [
    "def classification_evaluation(y_test_clf, predictions):\n",
    "\n",
    "    accuracy = accuracy_score(y_test_clf, predictions)\n",
    "    precision = precision_score(y_test_clf, predictions)\n",
    "    recall = recall_score(y_test_clf, predictions)\n",
    "    f1 = f1_score(y_test_clf, predictions)\n",
    "    mcc = matthews_corrcoef(y_test_clf, predictions)\n",
    "\n",
    "    results = {'Test Accuracy': [accuracy], 'Test Precision': [precision], 'Test Recall': [recall], 'Test F1': [f1], 'Test MCC': [mcc]} \n",
    "    results_df = pd.DataFrame(results)\n",
    "    \n",
    "    return results_df\n",
    "\n",
    "def classification_model_evaluation(X_train, X_test, y_train, y_test, classifiers):\n",
    "    \n",
    "    results_list = []\n",
    "    for name, (classifier, param_grid) in classifiers.items():\n",
    "        clf = classifier()\n",
    "        grid_search = GridSearchCV(clf, param_grid, cv=5, scoring='f1_micro', n_jobs=-1)\n",
    "        grid_search.fit(X_train, y_train)\n",
    "        \n",
    "        best_params = grid_search.best_params_\n",
    "        best_model = grid_search.best_estimator_\n",
    "        \n",
    "        predictions = best_model.predict(X_test)\n",
    "        results = classification_evaluation(y_test, predictions)\n",
    "        results_dict = {'Classifier': name, 'Best Params': best_params}\n",
    "        results_dict.update(results.iloc[0].to_dict())  # Add evaluation metrics to the results_dict\n",
    "        results_list.append(results_dict)\n",
    "    \n",
    "    results_df = pd.DataFrame(results_list)\n",
    "    return results_df\n",
    "\n",
    "\n",
    "classifier_params = {\n",
    "    'Logistic Regression': (LogisticRegression, {'C': [0.001, 0.01, 0.1, 1.0, 10.0], 'max_iter': [1000]}),\n",
    "    'SVM': (SVC, {'C': [0.001, 0.01, 0.1, 1.0], 'kernel': ['linear', 'rbf'], 'gamma': ['scale', 'auto']}),\n",
    "    'Decision Tree': (DecisionTreeClassifier, {'max_depth': [None, 10, 20, 30], 'min_samples_split': [2, 5, 10]}),\n",
    "    'Random Forest': (RandomForestClassifier, {'n_estimators': [50, 100, 200], 'max_depth': [None, 10, 20, 30]}),\n",
    "    'LightGBM': (LGBMClassifier, {'n_estimators': [50, 100, 200, 500, 600], 'num_leaves': [10, 20, 30, 40, 50, 60, 70, 80], 'learning_rate': [0.01, 0.1, 0.2, 0.5, 1.0]}),\n",
    "    'Balanced Bagging': (BalancedBaggingClassifier(\n",
    "        base_estimator=LGBMClassifier(learning_rate=0.2, n_estimators=600),\n",
    "        sampling_strategy='not majority',\n",
    "        replacement=True,\n",
    "        random_state=23\n",
    "    ))\n",
    "}\n"
   ]
  },
  {
   "cell_type": "markdown",
   "id": "96ed66d0",
   "metadata": {},
   "source": [
    "### Create the dataset for the classification model"
   ]
  },
  {
   "cell_type": "code",
   "execution_count": 15,
   "id": "4a6eadf9",
   "metadata": {},
   "outputs": [],
   "source": [
    "X_train, X_ivs, y_train, col_names = pickle.load(open(\"drd2_data.pickle\", \"rb\"))\n",
    "\n",
    "X_train = pd.DataFrame(X_train, columns=col_names)\n",
    "y_train = pd.DataFrame(y_train, columns=['Target'])"
   ]
  },
  {
   "cell_type": "code",
   "execution_count": 16,
   "id": "c303247e",
   "metadata": {},
   "outputs": [],
   "source": [
    "def binary(row):\n",
    "    if row['Target'] == 0:\n",
    "        return 1\n",
    "    else:\n",
    "        return 0"
   ]
  },
  {
   "cell_type": "code",
   "execution_count": 17,
   "id": "5cb8f011",
   "metadata": {},
   "outputs": [],
   "source": [
    "y_train_class = y_train.copy()\n",
    "y_train_class['Target'] = y_train_class.apply(binary, axis=1) # convert to binary\n",
    "y_train_class = y_train_class.astype('category')"
   ]
  },
  {
   "cell_type": "markdown",
   "id": "8df47982",
   "metadata": {},
   "source": [
    "### Binary"
   ]
  },
  {
   "cell_type": "code",
   "execution_count": 18,
   "id": "402413ea",
   "metadata": {},
   "outputs": [],
   "source": [
    "binary_columns_train = [col for col in X_train.columns if set(X_train[col]) == {0, 1}]  # get the binary columns\n",
    "\n",
    "binary_x = X_train[binary_columns_train].copy()\n",
    "binary_y = y_train_class.copy()\n",
    "\n",
    "# Split data into train and test\n",
    "X_train_bin_cl, X_test_bin_cl, y_train_bin_cl, y_test_bin_cl = train_test_split(binary_x, binary_y, test_size=0.2, random_state=23)"
   ]
  },
  {
   "cell_type": "markdown",
   "id": "d6ffc54a",
   "metadata": {},
   "source": [
    "### Floats"
   ]
  },
  {
   "cell_type": "code",
   "execution_count": 19,
   "id": "f97359f9",
   "metadata": {},
   "outputs": [],
   "source": [
    "binary_columns_train = [col for col in X_train.columns if set(X_train[col]) == {0, 1}]  # get the binary columns\n",
    "\n",
    "float_x = X_train.drop(binary_columns_train, axis=1).copy()\n",
    "float_y = y_train_class.copy()\n",
    "\n",
    "# Split data into train and test\n",
    "X_train_float_cl, X_test_float_cl, y_train_float_cl, y_test_float_cl = train_test_split(float_x, float_y, test_size=0.2, random_state=23)"
   ]
  },
  {
   "cell_type": "markdown",
   "id": "cf02fdaa",
   "metadata": {},
   "source": [
    "## Binary models"
   ]
  },
  {
   "cell_type": "code",
   "execution_count": null,
   "id": "873897d9",
   "metadata": {},
   "outputs": [],
   "source": [
    "results_bin_cl=classification_model_evaluation(X_train_bin_cl, X_test_bin_cl, y_train_bin_cl, y_test_bin_cl, classifier_params)\n",
    "results_bin_cl"
   ]
  },
  {
   "cell_type": "markdown",
   "id": "2c4239ea",
   "metadata": {},
   "source": [
    "bla bla bla the best one is bla bla bla"
   ]
  },
  {
   "cell_type": "markdown",
   "id": "669800ca",
   "metadata": {},
   "source": [
    "# Float models"
   ]
  },
  {
   "cell_type": "markdown",
   "id": "c8bdd0b3",
   "metadata": {},
   "source": [
    "As previously inspected, these columns have quite different distributions and ranges, which means that scaling them is an important step. Let's try different scalers and see how they behave with different classifiers."
   ]
  },
  {
   "cell_type": "code",
   "execution_count": 27,
   "id": "611fd61b",
   "metadata": {},
   "outputs": [
    {
     "data": {
      "text/html": [
       "<div>\n",
       "<style scoped>\n",
       "    .dataframe tbody tr th:only-of-type {\n",
       "        vertical-align: middle;\n",
       "    }\n",
       "\n",
       "    .dataframe tbody tr th {\n",
       "        vertical-align: top;\n",
       "    }\n",
       "\n",
       "    .dataframe thead th {\n",
       "        text-align: right;\n",
       "    }\n",
       "</style>\n",
       "<table border=\"1\" class=\"dataframe\">\n",
       "  <thead>\n",
       "    <tr style=\"text-align: right;\">\n",
       "      <th></th>\n",
       "      <th>Scaler</th>\n",
       "      <th>Model</th>\n",
       "      <th>F1 Score</th>\n",
       "      <th>Accuracy</th>\n",
       "      <th>Precision</th>\n",
       "      <th>Recall</th>\n",
       "      <th>MCC</th>\n",
       "    </tr>\n",
       "  </thead>\n",
       "  <tbody>\n",
       "    <tr>\n",
       "      <th>1</th>\n",
       "      <td>MinMaxScaler()</td>\n",
       "      <td>RandomForestClassifier()</td>\n",
       "      <td>0.855375</td>\n",
       "      <td>0.872616</td>\n",
       "      <td>0.855845</td>\n",
       "      <td>0.872616</td>\n",
       "      <td>0.416697</td>\n",
       "    </tr>\n",
       "    <tr>\n",
       "      <th>2</th>\n",
       "      <td>PowerTransformer()</td>\n",
       "      <td>RandomForestClassifier()</td>\n",
       "      <td>0.853931</td>\n",
       "      <td>0.871935</td>\n",
       "      <td>0.854775</td>\n",
       "      <td>0.871935</td>\n",
       "      <td>0.410791</td>\n",
       "    </tr>\n",
       "    <tr>\n",
       "      <th>0</th>\n",
       "      <td>StandardScaler()</td>\n",
       "      <td>RandomForestClassifier()</td>\n",
       "      <td>0.852927</td>\n",
       "      <td>0.871253</td>\n",
       "      <td>0.853762</td>\n",
       "      <td>0.871253</td>\n",
       "      <td>0.406454</td>\n",
       "    </tr>\n",
       "    <tr>\n",
       "      <th>4</th>\n",
       "      <td>MaxAbsScaler()</td>\n",
       "      <td>RandomForestClassifier()</td>\n",
       "      <td>0.851371</td>\n",
       "      <td>0.869891</td>\n",
       "      <td>0.851793</td>\n",
       "      <td>0.869891</td>\n",
       "      <td>0.399388</td>\n",
       "    </tr>\n",
       "    <tr>\n",
       "      <th>3</th>\n",
       "      <td>RobustScaler()</td>\n",
       "      <td>RandomForestClassifier()</td>\n",
       "      <td>0.850189</td>\n",
       "      <td>0.867847</td>\n",
       "      <td>0.849178</td>\n",
       "      <td>0.867847</td>\n",
       "      <td>0.393250</td>\n",
       "    </tr>\n",
       "  </tbody>\n",
       "</table>\n",
       "</div>"
      ],
      "text/plain": [
       "               Scaler                     Model  F1 Score  Accuracy  \\\n",
       "1      MinMaxScaler()  RandomForestClassifier()  0.855375  0.872616   \n",
       "2  PowerTransformer()  RandomForestClassifier()  0.853931  0.871935   \n",
       "0    StandardScaler()  RandomForestClassifier()  0.852927  0.871253   \n",
       "4      MaxAbsScaler()  RandomForestClassifier()  0.851371  0.869891   \n",
       "3      RobustScaler()  RandomForestClassifier()  0.850189  0.867847   \n",
       "\n",
       "   Precision    Recall       MCC  \n",
       "1   0.855845  0.872616  0.416697  \n",
       "2   0.854775  0.871935  0.410791  \n",
       "0   0.853762  0.871253  0.406454  \n",
       "4   0.851793  0.869891  0.399388  \n",
       "3   0.849178  0.867847  0.393250  "
      ]
     },
     "execution_count": 27,
     "metadata": {},
     "output_type": "execute_result"
    }
   ],
   "source": [
    "rfc_scaler = sc_tester(RandomForestClassifier(), X_train_float_cl, y_train_float_cl, X_test_float_cl, y_test_float_cl)\n",
    "rfc_scaler"
   ]
  },
  {
   "cell_type": "code",
   "execution_count": 28,
   "id": "afc8822a",
   "metadata": {},
   "outputs": [
    {
     "data": {
      "text/html": [
       "<div>\n",
       "<style scoped>\n",
       "    .dataframe tbody tr th:only-of-type {\n",
       "        vertical-align: middle;\n",
       "    }\n",
       "\n",
       "    .dataframe tbody tr th {\n",
       "        vertical-align: top;\n",
       "    }\n",
       "\n",
       "    .dataframe thead th {\n",
       "        text-align: right;\n",
       "    }\n",
       "</style>\n",
       "<table border=\"1\" class=\"dataframe\">\n",
       "  <thead>\n",
       "    <tr style=\"text-align: right;\">\n",
       "      <th></th>\n",
       "      <th>Scaler</th>\n",
       "      <th>Model</th>\n",
       "      <th>F1 Score</th>\n",
       "      <th>Accuracy</th>\n",
       "      <th>Precision</th>\n",
       "      <th>Recall</th>\n",
       "      <th>MCC</th>\n",
       "    </tr>\n",
       "  </thead>\n",
       "  <tbody>\n",
       "    <tr>\n",
       "      <th>2</th>\n",
       "      <td>PowerTransformer()</td>\n",
       "      <td>LogisticRegression(max_iter=10000)</td>\n",
       "      <td>0.797791</td>\n",
       "      <td>0.850136</td>\n",
       "      <td>0.814188</td>\n",
       "      <td>0.850136</td>\n",
       "      <td>0.170605</td>\n",
       "    </tr>\n",
       "    <tr>\n",
       "      <th>3</th>\n",
       "      <td>RobustScaler()</td>\n",
       "      <td>LogisticRegression(max_iter=10000)</td>\n",
       "      <td>0.790723</td>\n",
       "      <td>0.848774</td>\n",
       "      <td>0.810413</td>\n",
       "      <td>0.848774</td>\n",
       "      <td>0.135308</td>\n",
       "    </tr>\n",
       "    <tr>\n",
       "      <th>0</th>\n",
       "      <td>StandardScaler()</td>\n",
       "      <td>LogisticRegression(max_iter=10000)</td>\n",
       "      <td>0.789622</td>\n",
       "      <td>0.848774</td>\n",
       "      <td>0.811426</td>\n",
       "      <td>0.848774</td>\n",
       "      <td>0.130691</td>\n",
       "    </tr>\n",
       "    <tr>\n",
       "      <th>4</th>\n",
       "      <td>MaxAbsScaler()</td>\n",
       "      <td>LogisticRegression(max_iter=10000)</td>\n",
       "      <td>0.783820</td>\n",
       "      <td>0.848774</td>\n",
       "      <td>0.828706</td>\n",
       "      <td>0.848774</td>\n",
       "      <td>0.107795</td>\n",
       "    </tr>\n",
       "    <tr>\n",
       "      <th>1</th>\n",
       "      <td>MinMaxScaler()</td>\n",
       "      <td>LogisticRegression(max_iter=10000)</td>\n",
       "      <td>0.782234</td>\n",
       "      <td>0.848093</td>\n",
       "      <td>0.820916</td>\n",
       "      <td>0.848093</td>\n",
       "      <td>0.091297</td>\n",
       "    </tr>\n",
       "  </tbody>\n",
       "</table>\n",
       "</div>"
      ],
      "text/plain": [
       "               Scaler                               Model  F1 Score  Accuracy  \\\n",
       "2  PowerTransformer()  LogisticRegression(max_iter=10000)  0.797791  0.850136   \n",
       "3      RobustScaler()  LogisticRegression(max_iter=10000)  0.790723  0.848774   \n",
       "0    StandardScaler()  LogisticRegression(max_iter=10000)  0.789622  0.848774   \n",
       "4      MaxAbsScaler()  LogisticRegression(max_iter=10000)  0.783820  0.848774   \n",
       "1      MinMaxScaler()  LogisticRegression(max_iter=10000)  0.782234  0.848093   \n",
       "\n",
       "   Precision    Recall       MCC  \n",
       "2   0.814188  0.850136  0.170605  \n",
       "3   0.810413  0.848774  0.135308  \n",
       "0   0.811426  0.848774  0.130691  \n",
       "4   0.828706  0.848774  0.107795  \n",
       "1   0.820916  0.848093  0.091297  "
      ]
     },
     "execution_count": 28,
     "metadata": {},
     "output_type": "execute_result"
    }
   ],
   "source": [
    "lg_scaler = sc_tester(LogisticRegression(max_iter=10000), X_train_float_cl, y_train_float_cl, X_test_float_cl, y_test_float_cl)\n",
    "lg_scaler"
   ]
  },
  {
   "cell_type": "code",
   "execution_count": 29,
   "id": "0181f7da",
   "metadata": {},
   "outputs": [
    {
     "data": {
      "text/html": [
       "<div>\n",
       "<style scoped>\n",
       "    .dataframe tbody tr th:only-of-type {\n",
       "        vertical-align: middle;\n",
       "    }\n",
       "\n",
       "    .dataframe tbody tr th {\n",
       "        vertical-align: top;\n",
       "    }\n",
       "\n",
       "    .dataframe thead th {\n",
       "        text-align: right;\n",
       "    }\n",
       "</style>\n",
       "<table border=\"1\" class=\"dataframe\">\n",
       "  <thead>\n",
       "    <tr style=\"text-align: right;\">\n",
       "      <th></th>\n",
       "      <th>Scaler</th>\n",
       "      <th>Model</th>\n",
       "      <th>F1 Score</th>\n",
       "      <th>Accuracy</th>\n",
       "      <th>Precision</th>\n",
       "      <th>Recall</th>\n",
       "      <th>MCC</th>\n",
       "    </tr>\n",
       "  </thead>\n",
       "  <tbody>\n",
       "    <tr>\n",
       "      <th>1</th>\n",
       "      <td>MinMaxScaler()</td>\n",
       "      <td>DecisionTreeClassifier()</td>\n",
       "      <td>0.832728</td>\n",
       "      <td>0.832425</td>\n",
       "      <td>0.833035</td>\n",
       "      <td>0.832425</td>\n",
       "      <td>0.356726</td>\n",
       "    </tr>\n",
       "    <tr>\n",
       "      <th>3</th>\n",
       "      <td>RobustScaler()</td>\n",
       "      <td>DecisionTreeClassifier()</td>\n",
       "      <td>0.830615</td>\n",
       "      <td>0.829700</td>\n",
       "      <td>0.831562</td>\n",
       "      <td>0.829700</td>\n",
       "      <td>0.351011</td>\n",
       "    </tr>\n",
       "    <tr>\n",
       "      <th>0</th>\n",
       "      <td>StandardScaler()</td>\n",
       "      <td>DecisionTreeClassifier()</td>\n",
       "      <td>0.825124</td>\n",
       "      <td>0.822207</td>\n",
       "      <td>0.828354</td>\n",
       "      <td>0.822207</td>\n",
       "      <td>0.338300</td>\n",
       "    </tr>\n",
       "    <tr>\n",
       "      <th>4</th>\n",
       "      <td>MaxAbsScaler()</td>\n",
       "      <td>DecisionTreeClassifier()</td>\n",
       "      <td>0.821693</td>\n",
       "      <td>0.818120</td>\n",
       "      <td>0.825714</td>\n",
       "      <td>0.818120</td>\n",
       "      <td>0.327970</td>\n",
       "    </tr>\n",
       "    <tr>\n",
       "      <th>2</th>\n",
       "      <td>PowerTransformer()</td>\n",
       "      <td>DecisionTreeClassifier()</td>\n",
       "      <td>0.817966</td>\n",
       "      <td>0.819482</td>\n",
       "      <td>0.816520</td>\n",
       "      <td>0.819482</td>\n",
       "      <td>0.293017</td>\n",
       "    </tr>\n",
       "  </tbody>\n",
       "</table>\n",
       "</div>"
      ],
      "text/plain": [
       "               Scaler                     Model  F1 Score  Accuracy  \\\n",
       "1      MinMaxScaler()  DecisionTreeClassifier()  0.832728  0.832425   \n",
       "3      RobustScaler()  DecisionTreeClassifier()  0.830615  0.829700   \n",
       "0    StandardScaler()  DecisionTreeClassifier()  0.825124  0.822207   \n",
       "4      MaxAbsScaler()  DecisionTreeClassifier()  0.821693  0.818120   \n",
       "2  PowerTransformer()  DecisionTreeClassifier()  0.817966  0.819482   \n",
       "\n",
       "   Precision    Recall       MCC  \n",
       "1   0.833035  0.832425  0.356726  \n",
       "3   0.831562  0.829700  0.351011  \n",
       "0   0.828354  0.822207  0.338300  \n",
       "4   0.825714  0.818120  0.327970  \n",
       "2   0.816520  0.819482  0.293017  "
      ]
     },
     "execution_count": 29,
     "metadata": {},
     "output_type": "execute_result"
    }
   ],
   "source": [
    "dt_scaler = sc_tester(DecisionTreeClassifier(), X_train_float_cl, y_train_float_cl, X_test_float_cl, y_test_float_cl)\n",
    "dt_scaler"
   ]
  },
  {
   "cell_type": "code",
   "execution_count": 30,
   "id": "bd31cca6",
   "metadata": {},
   "outputs": [
    {
     "data": {
      "text/html": [
       "<div>\n",
       "<style scoped>\n",
       "    .dataframe tbody tr th:only-of-type {\n",
       "        vertical-align: middle;\n",
       "    }\n",
       "\n",
       "    .dataframe tbody tr th {\n",
       "        vertical-align: top;\n",
       "    }\n",
       "\n",
       "    .dataframe thead th {\n",
       "        text-align: right;\n",
       "    }\n",
       "</style>\n",
       "<table border=\"1\" class=\"dataframe\">\n",
       "  <thead>\n",
       "    <tr style=\"text-align: right;\">\n",
       "      <th></th>\n",
       "      <th>Scaler</th>\n",
       "      <th>Model</th>\n",
       "      <th>F1 Score</th>\n",
       "      <th>Accuracy</th>\n",
       "      <th>Precision</th>\n",
       "      <th>Recall</th>\n",
       "      <th>MCC</th>\n",
       "    </tr>\n",
       "  </thead>\n",
       "  <tbody>\n",
       "    <tr>\n",
       "      <th>2</th>\n",
       "      <td>PowerTransformer()</td>\n",
       "      <td>SVC()</td>\n",
       "      <td>0.813329</td>\n",
       "      <td>0.858311</td>\n",
       "      <td>0.840041</td>\n",
       "      <td>0.858311</td>\n",
       "      <td>0.258951</td>\n",
       "    </tr>\n",
       "    <tr>\n",
       "      <th>0</th>\n",
       "      <td>StandardScaler()</td>\n",
       "      <td>SVC()</td>\n",
       "      <td>0.801609</td>\n",
       "      <td>0.856267</td>\n",
       "      <td>0.855380</td>\n",
       "      <td>0.856267</td>\n",
       "      <td>0.227297</td>\n",
       "    </tr>\n",
       "    <tr>\n",
       "      <th>4</th>\n",
       "      <td>MaxAbsScaler()</td>\n",
       "      <td>SVC()</td>\n",
       "      <td>0.793508</td>\n",
       "      <td>0.853542</td>\n",
       "      <td>0.862777</td>\n",
       "      <td>0.853542</td>\n",
       "      <td>0.192380</td>\n",
       "    </tr>\n",
       "    <tr>\n",
       "      <th>3</th>\n",
       "      <td>RobustScaler()</td>\n",
       "      <td>SVC()</td>\n",
       "      <td>0.785767</td>\n",
       "      <td>0.850136</td>\n",
       "      <td>0.851182</td>\n",
       "      <td>0.850136</td>\n",
       "      <td>0.135244</td>\n",
       "    </tr>\n",
       "    <tr>\n",
       "      <th>1</th>\n",
       "      <td>MinMaxScaler()</td>\n",
       "      <td>SVC()</td>\n",
       "      <td>0.776456</td>\n",
       "      <td>0.846730</td>\n",
       "      <td>0.716952</td>\n",
       "      <td>0.846730</td>\n",
       "      <td>0.000000</td>\n",
       "    </tr>\n",
       "  </tbody>\n",
       "</table>\n",
       "</div>"
      ],
      "text/plain": [
       "               Scaler  Model  F1 Score  Accuracy  Precision    Recall  \\\n",
       "2  PowerTransformer()  SVC()  0.813329  0.858311   0.840041  0.858311   \n",
       "0    StandardScaler()  SVC()  0.801609  0.856267   0.855380  0.856267   \n",
       "4      MaxAbsScaler()  SVC()  0.793508  0.853542   0.862777  0.853542   \n",
       "3      RobustScaler()  SVC()  0.785767  0.850136   0.851182  0.850136   \n",
       "1      MinMaxScaler()  SVC()  0.776456  0.846730   0.716952  0.846730   \n",
       "\n",
       "        MCC  \n",
       "2  0.258951  \n",
       "0  0.227297  \n",
       "4  0.192380  \n",
       "3  0.135244  \n",
       "1  0.000000  "
      ]
     },
     "execution_count": 30,
     "metadata": {},
     "output_type": "execute_result"
    }
   ],
   "source": [
    "svc_scaler = sc_tester(SVC(), X_train_float_cl, y_train_float_cl, X_test_float_cl, y_test_float_cl)\n",
    "svc_scaler"
   ]
  },
  {
   "cell_type": "code",
   "execution_count": 31,
   "id": "544a3954",
   "metadata": {},
   "outputs": [
    {
     "name": "stdout",
     "output_type": "stream",
     "text": [
      "[LightGBM] [Info] Number of positive: 982, number of negative: 4887\n",
      "[LightGBM] [Info] Auto-choosing col-wise multi-threading, the overhead of testing was 0.002098 seconds.\n",
      "You can set `force_col_wise=true` to remove the overhead.\n",
      "[LightGBM] [Info] Total Bins 6053\n",
      "[LightGBM] [Info] Number of data points in the train set: 5869, number of used features: 42\n",
      "[LightGBM] [Info] [binary:BoostFromScore]: pavg=0.167320 -> initscore=-1.604743\n",
      "[LightGBM] [Info] Start training from score -1.604743\n",
      "[LightGBM] [Info] Number of positive: 982, number of negative: 4887\n",
      "[LightGBM] [Info] Auto-choosing col-wise multi-threading, the overhead of testing was 0.002042 seconds.\n",
      "You can set `force_col_wise=true` to remove the overhead.\n",
      "[LightGBM] [Info] Total Bins 6015\n",
      "[LightGBM] [Info] Number of data points in the train set: 5869, number of used features: 42\n",
      "[LightGBM] [Info] [binary:BoostFromScore]: pavg=0.167320 -> initscore=-1.604743\n",
      "[LightGBM] [Info] Start training from score -1.604743\n",
      "[LightGBM] [Info] Number of positive: 982, number of negative: 4887\n",
      "[LightGBM] [Info] Auto-choosing col-wise multi-threading, the overhead of testing was 0.001879 seconds.\n",
      "You can set `force_col_wise=true` to remove the overhead.\n",
      "[LightGBM] [Info] Total Bins 5541\n",
      "[LightGBM] [Info] Number of data points in the train set: 5869, number of used features: 40\n",
      "[LightGBM] [Info] [binary:BoostFromScore]: pavg=0.167320 -> initscore=-1.604743\n",
      "[LightGBM] [Info] Start training from score -1.604743\n",
      "[LightGBM] [Info] Number of positive: 982, number of negative: 4887\n",
      "[LightGBM] [Info] Auto-choosing col-wise multi-threading, the overhead of testing was 0.001903 seconds.\n",
      "You can set `force_col_wise=true` to remove the overhead.\n",
      "[LightGBM] [Info] Total Bins 6033\n",
      "[LightGBM] [Info] Number of data points in the train set: 5869, number of used features: 42\n",
      "[LightGBM] [Info] [binary:BoostFromScore]: pavg=0.167320 -> initscore=-1.604743\n",
      "[LightGBM] [Info] Start training from score -1.604743\n",
      "[LightGBM] [Info] Number of positive: 982, number of negative: 4887\n",
      "[LightGBM] [Info] Auto-choosing col-wise multi-threading, the overhead of testing was 0.002067 seconds.\n",
      "You can set `force_col_wise=true` to remove the overhead.\n",
      "[LightGBM] [Info] Total Bins 6019\n",
      "[LightGBM] [Info] Number of data points in the train set: 5869, number of used features: 42\n",
      "[LightGBM] [Info] [binary:BoostFromScore]: pavg=0.167320 -> initscore=-1.604743\n",
      "[LightGBM] [Info] Start training from score -1.604743\n"
     ]
    },
    {
     "data": {
      "text/html": [
       "<div>\n",
       "<style scoped>\n",
       "    .dataframe tbody tr th:only-of-type {\n",
       "        vertical-align: middle;\n",
       "    }\n",
       "\n",
       "    .dataframe tbody tr th {\n",
       "        vertical-align: top;\n",
       "    }\n",
       "\n",
       "    .dataframe thead th {\n",
       "        text-align: right;\n",
       "    }\n",
       "</style>\n",
       "<table border=\"1\" class=\"dataframe\">\n",
       "  <thead>\n",
       "    <tr style=\"text-align: right;\">\n",
       "      <th></th>\n",
       "      <th>Scaler</th>\n",
       "      <th>Model</th>\n",
       "      <th>F1 Score</th>\n",
       "      <th>Accuracy</th>\n",
       "      <th>Precision</th>\n",
       "      <th>Recall</th>\n",
       "      <th>MCC</th>\n",
       "    </tr>\n",
       "  </thead>\n",
       "  <tbody>\n",
       "    <tr>\n",
       "      <th>2</th>\n",
       "      <td>PowerTransformer()</td>\n",
       "      <td>LGBMClassifier()</td>\n",
       "      <td>0.866607</td>\n",
       "      <td>0.882153</td>\n",
       "      <td>0.869262</td>\n",
       "      <td>0.882153</td>\n",
       "      <td>0.466616</td>\n",
       "    </tr>\n",
       "    <tr>\n",
       "      <th>3</th>\n",
       "      <td>RobustScaler()</td>\n",
       "      <td>LGBMClassifier()</td>\n",
       "      <td>0.865793</td>\n",
       "      <td>0.882153</td>\n",
       "      <td>0.869413</td>\n",
       "      <td>0.882153</td>\n",
       "      <td>0.464169</td>\n",
       "    </tr>\n",
       "    <tr>\n",
       "      <th>1</th>\n",
       "      <td>MinMaxScaler()</td>\n",
       "      <td>LGBMClassifier()</td>\n",
       "      <td>0.864098</td>\n",
       "      <td>0.882153</td>\n",
       "      <td>0.869987</td>\n",
       "      <td>0.882153</td>\n",
       "      <td>0.459545</td>\n",
       "    </tr>\n",
       "    <tr>\n",
       "      <th>4</th>\n",
       "      <td>MaxAbsScaler()</td>\n",
       "      <td>LGBMClassifier()</td>\n",
       "      <td>0.863109</td>\n",
       "      <td>0.879428</td>\n",
       "      <td>0.865475</td>\n",
       "      <td>0.879428</td>\n",
       "      <td>0.451472</td>\n",
       "    </tr>\n",
       "    <tr>\n",
       "      <th>0</th>\n",
       "      <td>StandardScaler()</td>\n",
       "      <td>LGBMClassifier()</td>\n",
       "      <td>0.861418</td>\n",
       "      <td>0.877384</td>\n",
       "      <td>0.862604</td>\n",
       "      <td>0.877384</td>\n",
       "      <td>0.443175</td>\n",
       "    </tr>\n",
       "  </tbody>\n",
       "</table>\n",
       "</div>"
      ],
      "text/plain": [
       "               Scaler             Model  F1 Score  Accuracy  Precision  \\\n",
       "2  PowerTransformer()  LGBMClassifier()  0.866607  0.882153   0.869262   \n",
       "3      RobustScaler()  LGBMClassifier()  0.865793  0.882153   0.869413   \n",
       "1      MinMaxScaler()  LGBMClassifier()  0.864098  0.882153   0.869987   \n",
       "4      MaxAbsScaler()  LGBMClassifier()  0.863109  0.879428   0.865475   \n",
       "0    StandardScaler()  LGBMClassifier()  0.861418  0.877384   0.862604   \n",
       "\n",
       "     Recall       MCC  \n",
       "2  0.882153  0.466616  \n",
       "3  0.882153  0.464169  \n",
       "1  0.882153  0.459545  \n",
       "4  0.879428  0.451472  \n",
       "0  0.877384  0.443175  "
      ]
     },
     "execution_count": 31,
     "metadata": {},
     "output_type": "execute_result"
    }
   ],
   "source": [
    "lgbm_scaler = sc_tester(LGBMClassifier(), X_train_float_cl, y_train_float_cl, X_test_float_cl, y_test_float_cl)\n",
    "lgbm_scaler"
   ]
  },
  {
   "cell_type": "markdown",
   "id": "42c0d9ca",
   "metadata": {},
   "source": [
    "Although not by much, the PowerTransformer scaler seems to be one of the most appropriate, so it is the one to be used."
   ]
  },
  {
   "cell_type": "code",
   "execution_count": 32,
   "id": "13d95108",
   "metadata": {},
   "outputs": [],
   "source": [
    "scaler = PowerTransformer()\n",
    "X_train_float = scaler.fit_transform(X_train_float_cl)\n",
    "X_test_float = scaler.transform(X_test_float_cl)"
   ]
  },
  {
   "cell_type": "code",
   "execution_count": null,
   "id": "94d49109",
   "metadata": {},
   "outputs": [],
   "source": [
    "results_float = classification_model_evaluation(X_train_float_cl, X_test_float_cl, y_train_float_cl, y_test_float_cl, classifier_params)\n",
    "results_float"
   ]
  },
  {
   "cell_type": "code",
   "execution_count": null,
   "id": "6c3fb81d",
   "metadata": {},
   "outputs": [],
   "source": [
    "results_float.iloc[4][\"Best Params\"] #apparent best model"
   ]
  },
  {
   "cell_type": "markdown",
   "id": "0b9a66b4",
   "metadata": {},
   "source": [
    "Now let's test the apparent best model with SMOTE to try to deal with the imbalance of our dataset, and without it, and see how they compare."
   ]
  },
  {
   "cell_type": "code",
   "execution_count": null,
   "id": "2fb82cd5",
   "metadata": {},
   "outputs": [],
   "source": [
    "scaler_float = PowerTransformer()\n",
    "X_train_float_scaled = scaler_float.fit_transform(X_train_float_clf)\n",
    "X_test_float_scaled = scaler_float.transform(X_test_float_clf)\n",
    "\n",
    "sm = SMOTE(random_state=23)\n",
    "X_train_float_resampled, y_train_float_resampled = sm.fit_resample(X_train_float_scaled, y_train_float_clf)\n",
    "results_float = classification_model_evaluation(X_train_float_resampled, X_test_float_scaled, y_train_float_resampled, y_test_float_clf, classifier_params)\n",
    "results_float\n",
    "\n",
    "#without SMOTE\n",
    "model = LGBMClassifier(learning_rate=0.1, n_estimators=600, num_leaves=40) #best classifier\n",
    "model.fit(X_train_float_scaled, y_train_float_clf)\n",
    "\n",
    "preds = model.predict(X_test_float_scaled)\n",
    "classification_evaluation(y_test_float_clf, preds)"
   ]
  },
  {
   "cell_type": "code",
   "execution_count": null,
   "id": "4d599c14",
   "metadata": {},
   "outputs": [],
   "source": [
    "#with SMOTE\n",
    "model = LGBMClassifier(learning_rate=0.1, n_estimators=600, num_leaves=40)\n",
    "model.fit(X_train_float_resampled, y_train_float_resampled)\n",
    "\n",
    "preds = model.predict(X_test_float_scaled)\n",
    "classification_evaluation(y_test_float_clf, preds)"
   ]
  },
  {
   "cell_type": "markdown",
   "id": "f004cd4b",
   "metadata": {},
   "source": [
    "(results are better with...) Let's see if performing PCA helps."
   ]
  },
  {
   "cell_type": "code",
   "execution_count": null,
   "id": "d40f3092",
   "metadata": {},
   "outputs": [],
   "source": [
    "pca = PCA(n_components=0.9) #to retain 90% of the original variance\n",
    "X_train_float_pca = pca.fit_transform(X_train_float_resampled)\n",
    "X_test_float_pca = pca.transform(X_test_float_scaled)\n",
    "\n",
    "model = LGBMClassifier(learning_rate=0.1, n_estimators=600, num_leaves=40) #apparent best classifier\n",
    "model.fit(X_train_float_pca, y_train_float_resampled)\n",
    "\n",
    "preds_pca = model.predict(X_test_float_pca)\n",
    "classification_evaluation(y_test_float_clf, preds_pca)"
   ]
  },
  {
   "cell_type": "markdown",
   "id": "81061a23",
   "metadata": {},
   "source": [
    "(results with PCA bla bla)"
   ]
  },
  {
   "cell_type": "markdown",
   "id": "83fbf9d1",
   "metadata": {},
   "source": [
    "# Regression model"
   ]
  },
  {
   "cell_type": "code",
   "execution_count": null,
   "id": "3b00151b",
   "metadata": {},
   "outputs": [],
   "source": [
    "def regression_evaluation_df(truth, preds):\n",
    "    rve = explained_variance_score(truth, preds)\n",
    "    rmse = mean_squared_error(truth, preds, squared=False)\n",
    "    max_err = max_error(truth, preds)\n",
    "    mae = mean_absolute_error(truth, preds)\n",
    "\n",
    "    results = {'Test RVE': [rve], 'Test RMSE': [rmse], \n",
    "               'Test Maximum Error': [max_err], 'Test MAE': [mae]} \n",
    "    results_df = pd.DataFrame(results)\n",
    "\n",
    "    return results_df\n",
    "\n",
    "def regression_model_evaluation(X_train, X_test, y_train, y_test, models, classifier):\n",
    "\n",
    "    final_results = pd.DataFrame()\n",
    "\n",
    "    for name, regressor in models.items():\n",
    "\n",
    "        zir = ZeroInflatedRegressor(\n",
    "            classifier=classifier,\n",
    "            regressor=regressor\n",
    "        )\n",
    "\n",
    "        zir.fit(X_train, y_train)\n",
    "        y_pred = zir.predict(X_test)\n",
    "\n",
    "        result= regression_evaluation_df(y_test, y_pred)\n",
    "        result.rename(index={0: name}, inplace=True)\n",
    "        final_results = pd.concat([final_results, result])\n",
    "\n",
    "\n",
    "    return final_results\n",
    "\n",
    "models={'Linear Regression': LinearRegression(),\n",
    "        'Ridge Regression': Ridge(random_state=23),\n",
    "        'XGBoost Regression': XGBRegressor(random_state=23),\n",
    "        'SVR': SVR(),\n",
    "        'Decision Tree': DecisionTreeRegressor(  random_state=23),\n",
    " }\n",
    "\n",
    "for i in (100,200,300,500,800,1000):\n",
    "    for j in [None,2,4,8,10,20,30]:\n",
    "        for k in [None,2,4,5,8,10]:\n",
    "            models[f'Random Forest  n_estimators={i}, max_depth={j}'] = RandomForestRegressor(n_estimators=i, max_depth=j, random_state=23)\n",
    "\n",
    "for i in (100,200,300,500,800,1000):\n",
    "    for j in [None,2,4,8,10,20,30]:\n",
    "        for k in [None,2,4,5,8,10]:\n",
    "            for l in [None, 0.001, 0.01, 0.1, 1.0]:\n",
    "                models[f'LightGBM  n_estimators={i}, max_depth={j}'] = LGBMRegressor(n_estimators=i, max_depth=j, random_state=23,)\n",
    "                models[f'XBoost  n_estimators={i}, max_depth={j}'] = XGBRegressor(n_estimators=i, max_depth=j, random_state=23)"
   ]
  },
  {
   "cell_type": "markdown",
   "id": "435ff4f3",
   "metadata": {},
   "source": [
    "## Create the dataset for the regression models"
   ]
  },
  {
   "cell_type": "code",
   "execution_count": null,
   "id": "bd9fa63d",
   "metadata": {},
   "outputs": [],
   "source": [
    "X_train, X_ivs, y_train, col_names = pickle.load(open(\"drd2_data.pickle\", \"rb\"))\n",
    "\n",
    "X_train= pd.DataFrame(X_train, columns=col_names)\n",
    "y_train = pd.DataFrame(y_train, columns=['Target'])"
   ]
  },
  {
   "cell_type": "markdown",
   "id": "a546c30d",
   "metadata": {},
   "source": [
    "### Binary"
   ]
  },
  {
   "cell_type": "code",
   "execution_count": null,
   "id": "0e944e00",
   "metadata": {},
   "outputs": [],
   "source": [
    "binary_columns_train = [col for col in X_train.columns if set(X_train[col]) == {0, 1}]  # get the binary columns\n",
    "\n",
    "binary_x = X_train[binary_columns_train].copy()\n",
    "binary_y = y_train.copy()\n",
    "\n",
    "# Split data into train and test\n",
    "X_train_bin_reg, X_test_bin_reg, y_train_bin_reg, y_test_bin_reg = train_test_split(binary_x, binary_y, test_size=0.2, random_state=23)"
   ]
  },
  {
   "cell_type": "markdown",
   "id": "f2d52691",
   "metadata": {},
   "source": [
    "### Floats"
   ]
  },
  {
   "cell_type": "code",
   "execution_count": null,
   "id": "59e3e929",
   "metadata": {},
   "outputs": [],
   "source": [
    "binary_columns_train = [col for col in X_train.columns if set(X_train[col]) == {0, 1}]  # get the binary columns\n",
    "\n",
    "float_x = X_train.drop(binary_columns_train, axis=1).copy()\n",
    "float_y = y_train.copy()\n",
    "\n",
    "# Split data into train and test\n",
    "X_train_float_reg, X_test_float_reg, y_train_float_reg, y_test_float_reg = train_test_split(float_x, float_y, test_size=0.2, random_state=23)"
   ]
  },
  {
   "cell_type": "markdown",
   "id": "bf1792f8",
   "metadata": {},
   "source": [
    "## Binary models"
   ]
  },
  {
   "cell_type": "code",
   "execution_count": null,
   "id": "a6725df6",
   "metadata": {},
   "outputs": [],
   "source": [
    "classifier = RandomForestClassifier(n_estimators=100, max_depth=None, random_state=23) # aqui pomos o melhor classifier que encontramos!!!!!!!!!!!!!\n",
    "results_float=regression_model_evaluation(X_train_bin_reg, X_test_bin_reg, y_train_bin_reg, y_test_bin_reg, models, classifier)\n",
    "results_float.sort_values(by='Test RVE',ascending=False, inplace=True)\n",
    "results_float"
   ]
  },
  {
   "cell_type": "markdown",
   "id": "57b61175",
   "metadata": {},
   "source": [
    "## Float models"
   ]
  },
  {
   "cell_type": "code",
   "execution_count": null,
   "id": "8799fdd2",
   "metadata": {},
   "outputs": [],
   "source": [
    "classifier = RandomForestClassifier(n_estimators=100, max_depth=None, random_state=23) # aqui pomos o melhor classifier que encontramos!!!!!!!!!!!!!\n",
    "results_float=regression_model_evaluation(X_train_bin_reg, X_test_bin_reg, y_train_bin_reg, y_test_bin_reg, models, classifier)\n",
    "results_float.sort_values(by='Test RVE',ascending=False, inplace=True)\n",
    "results_float"
   ]
  },
  {
   "cell_type": "markdown",
   "id": "67252b16",
   "metadata": {},
   "source": [
    "# Stack model"
   ]
  },
  {
   "cell_type": "markdown",
   "id": "7d6bcfb7",
   "metadata": {},
   "source": [
    "now we will make the predictions with the best models and stack them together"
   ]
  },
  {
   "cell_type": "code",
   "execution_count": null,
   "id": "695728b6",
   "metadata": {},
   "outputs": [],
   "source": []
  },
  {
   "cell_type": "markdown",
   "id": "f164f366",
   "metadata": {},
   "source": []
  }
 ],
 "metadata": {
  "kernelspec": {
   "display_name": "Python 3 (ipykernel)",
   "language": "python",
   "name": "python3"
  },
  "language_info": {
   "codemirror_mode": {
    "name": "ipython",
    "version": 3
   },
   "file_extension": ".py",
   "mimetype": "text/x-python",
   "name": "python",
   "nbconvert_exporter": "python",
   "pygments_lexer": "ipython3",
   "version": "3.9.12"
  }
 },
 "nbformat": 4,
 "nbformat_minor": 5
}
